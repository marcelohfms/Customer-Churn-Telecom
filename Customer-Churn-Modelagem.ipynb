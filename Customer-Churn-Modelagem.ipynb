{
 "cells": [
  {
   "cell_type": "markdown",
   "id": "f0f794ac",
   "metadata": {},
   "source": [
    "# Customer Churn Telecom\n",
    "\n",
    "Customer Churn (ou Rotatividade de Clientes, em uma tradução livre) refere-se a uma decisão tomada pelo cliente sobre o término do relacionamento comercial. Refere-se também à perda de clientes. A fidelidade do cliente e a rotatividade de clientes sempre somam 100%. Se uma empresa tem uma taxa de fidelidade de 60%, então a taxa de perda de clientes é de 40%. De acordo com a\n",
    "regra de lucratividade do cliente 80/20, 20% dos clientes estão gerando 80% da receita. Portanto, é muito importante prever os usuários que provavelmente abandonarão o relacionamento comercial e os fatores que afetam as decisões do cliente.\n",
    "\n",
    "Neste projeto, o objetivo é prever o Customer Churn em uma Operadora de Telecom.\n",
    "\n",
    "## Modelagem Preditiva\n",
    "\n",
    "O objetivo final do projeto é construir um modelo preditivo para o Churn da empresa de Telecom. Após Análise Exploratória e Pré-Processamento, chegou a hora de construir o modelo de Machine Learning e avaliar sua performance. Nosso objetivo é atingir um F1-Score Macro de pelo menos 95%."
   ]
  },
  {
   "cell_type": "code",
   "execution_count": 183,
   "id": "79f9fef6",
   "metadata": {},
   "outputs": [],
   "source": [
    "# Imports da biblioteca\n",
    "import pandas as pd\n",
    "import numpy as np\n",
    "import matplotlib.pyplot as plt\n",
    "import seaborn as sns\n",
    "from sklearn.metrics import accuracy_score, confusion_matrix, classification_report\n",
    "from sklearn.utils.class_weight import compute_class_weight, compute_sample_weight\n",
    "from sklearn.linear_model import LogisticRegression\n",
    "from sklearn.tree import DecisionTreeClassifier\n",
    "from sklearn.ensemble import RandomForestClassifier\n",
    "from sklearn.model_selection import GridSearchCV\n",
    "from xgboost import XGBClassifier"
   ]
  },
  {
   "cell_type": "code",
   "execution_count": 43,
   "id": "57affd3f",
   "metadata": {},
   "outputs": [],
   "source": [
    "train_data = pd.read_csv(\"dados_treino_preproc.csv\")\n",
    "test_data = pd.read_csv(\"dados_teste_preproc.csv\")"
   ]
  },
  {
   "cell_type": "markdown",
   "id": "252a98c8",
   "metadata": {},
   "source": [
    "## Definição dos dados de entrada e saída\n",
    "\n",
    "Para os primeiros modelos, não serão consideradas as variáveis criadas na Engenharia de Atributos"
   ]
  },
  {
   "cell_type": "code",
   "execution_count": 90,
   "id": "216d887a",
   "metadata": {},
   "outputs": [],
   "source": [
    "y_train, y_test = train_data['churn'], test_data['churn']\n",
    "X_train, X_test = train_data.drop(columns = ['churn', 'special_plan', 'old_account']), test_data.drop(columns = ['churn', 'special_plan', 'old_account'])"
   ]
  },
  {
   "cell_type": "markdown",
   "id": "a4f148e6",
   "metadata": {},
   "source": [
    "## Função para treinar e avaliar modelos"
   ]
  },
  {
   "cell_type": "code",
   "execution_count": 91,
   "id": "c8c46ec6",
   "metadata": {},
   "outputs": [],
   "source": [
    "def train_n_score_model(modelo, X_train, y_train, X_test, y_test):\n",
    "    # Treinamento do modelo\n",
    "    modelo.fit(X_train, y_train)\n",
    "    \n",
    "    # Previsões com modelo treinado\n",
    "    y_pred = modelo.predict(X_test)\n",
    "    \n",
    "    # Matriz de confusão\n",
    "    print('Matriz de confusão\\n')\n",
    "    print(confusion_matrix(y_test, y_pred))\n",
    "    \n",
    "    # Classificatin Report\n",
    "    print('\\n', classification_report(y_test, y_pred))"
   ]
  },
  {
   "cell_type": "markdown",
   "id": "c4f144ec",
   "metadata": {},
   "source": [
    "## Modelo 1 (Base) - Regressão Logística"
   ]
  },
  {
   "cell_type": "code",
   "execution_count": 92,
   "id": "76896e56",
   "metadata": {},
   "outputs": [
    {
     "name": "stdout",
     "output_type": "stream",
     "text": [
      "Matriz de confusão\n",
      "\n",
      "[[1413   30]\n",
      " [ 182   42]]\n",
      "\n",
      "               precision    recall  f1-score   support\n",
      "\n",
      "           0       0.89      0.98      0.93      1443\n",
      "           1       0.58      0.19      0.28       224\n",
      "\n",
      "    accuracy                           0.87      1667\n",
      "   macro avg       0.73      0.58      0.61      1667\n",
      "weighted avg       0.85      0.87      0.84      1667\n",
      "\n"
     ]
    }
   ],
   "source": [
    "modelo1 = LogisticRegression(max_iter=1000)\n",
    "\n",
    "train_n_score_model(modelo1, X_train, y_train, X_test, y_test)"
   ]
  },
  {
   "cell_type": "markdown",
   "id": "01769fd5",
   "metadata": {},
   "source": [
    "O modelo base tem uma boa acurácia, 87%, porém observando a matriz de confusão e as métricas por classe, vê-se que o desbalanceamento de classe deixou o modelo enviesado."
   ]
  },
  {
   "cell_type": "markdown",
   "id": "cd38d98e",
   "metadata": {},
   "source": [
    "## Modelo 2 - Regressão Logística com balanceamento dos pesos de classe"
   ]
  },
  {
   "cell_type": "code",
   "execution_count": 93,
   "id": "dc81930b",
   "metadata": {},
   "outputs": [
    {
     "name": "stdout",
     "output_type": "stream",
     "text": [
      "Matriz de confusão\n",
      "\n",
      "[[1099  344]\n",
      " [  41  183]]\n",
      "\n",
      "               precision    recall  f1-score   support\n",
      "\n",
      "           0       0.96      0.76      0.85      1443\n",
      "           1       0.35      0.82      0.49       224\n",
      "\n",
      "    accuracy                           0.77      1667\n",
      "   macro avg       0.66      0.79      0.67      1667\n",
      "weighted avg       0.88      0.77      0.80      1667\n",
      "\n"
     ]
    }
   ],
   "source": [
    "modelo2 = LogisticRegression(max_iter=1000, class_weight='balanced')\n",
    "\n",
    "train_n_score_model(modelo2, X_train, y_train, X_test, y_test)"
   ]
  },
  {
   "cell_type": "markdown",
   "id": "bf70007e",
   "metadata": {},
   "source": [
    "Com o segundo modelo, a acurácia caiu para 77%, porém as métricas por classe melhoraram um pouco. Porém a performance ainda está bem longe do ideal."
   ]
  },
  {
   "cell_type": "markdown",
   "id": "ce6b4965",
   "metadata": {},
   "source": [
    "## Modelo 3 - Regressão Logística com Grid Search para pesos de classe\n",
    "\n",
    "Pode-se testar um GridSearch com diferentes pesos para as classes para tentar encontrar o melhor valor. A métrica de avaliação utilizada será o F1-Score pois representa um melhor equilíbrio entre as previsões das classes"
   ]
  },
  {
   "cell_type": "code",
   "execution_count": 106,
   "id": "e1cd9ab7",
   "metadata": {},
   "outputs": [],
   "source": [
    "# Definindo diferentes valores de peso para classe\n",
    "weights = np.linspace(0.0,0.99,200)\n",
    "\n",
    "# Criando um dicionário para o Grid-Search\n",
    "param_grid = {'class_weight': [{0:x, 1:1.0-x} for x in weights]}\n",
    "\n",
    "# GridSearch\n",
    "modelo3 = GridSearchCV(estimator= LogisticRegression(max_iter=1000), \n",
    "                                  param_grid= param_grid,\n",
    "                                  cv=5, \n",
    "                                  n_jobs=-1, \n",
    "                                  scoring='f1', \n",
    "                                  verbose=2)"
   ]
  },
  {
   "cell_type": "code",
   "execution_count": 107,
   "id": "bfbae7e4",
   "metadata": {
    "scrolled": true
   },
   "outputs": [
    {
     "name": "stdout",
     "output_type": "stream",
     "text": [
      "Fitting 5 folds for each of 200 candidates, totalling 1000 fits\n",
      "Matriz de confusão\n",
      "\n",
      "[[1233  210]\n",
      " [  87  137]]\n",
      "\n",
      "               precision    recall  f1-score   support\n",
      "\n",
      "           0       0.93      0.85      0.89      1443\n",
      "           1       0.39      0.61      0.48       224\n",
      "\n",
      "    accuracy                           0.82      1667\n",
      "   macro avg       0.66      0.73      0.69      1667\n",
      "weighted avg       0.86      0.82      0.84      1667\n",
      "\n"
     ]
    }
   ],
   "source": [
    "train_n_score_model(modelo3, X_train, y_train, X_test, y_test)"
   ]
  },
  {
   "cell_type": "code",
   "execution_count": 108,
   "id": "b8e232db",
   "metadata": {},
   "outputs": [
    {
     "data": {
      "text/plain": [
       "{'class_weight': {0: 0.20894472361809047, 1: 0.7910552763819095}}"
      ]
     },
     "execution_count": 108,
     "metadata": {},
     "output_type": "execute_result"
    }
   ],
   "source": [
    "# Melhores parâmetros\n",
    "modelo3.best_params_"
   ]
  },
  {
   "cell_type": "markdown",
   "id": "ae519b13",
   "metadata": {},
   "source": [
    "Com o terceiro modelo, o F1-Score aumentou em 2% e a acurácia em mais 5%. Os pesos ideias para as classes são 20/80."
   ]
  },
  {
   "cell_type": "markdown",
   "id": "b913c088",
   "metadata": {},
   "source": [
    "## Modelo 3 (Retreino) - Logistic Regression com Feature Selection\n",
    "\n",
    "Será testado o modelo retreinado, incluindo as variáveis criadas na Feature Selection, mas removendo as variáveis usadas para criar as novas."
   ]
  },
  {
   "cell_type": "code",
   "execution_count": 158,
   "id": "77d82778",
   "metadata": {},
   "outputs": [],
   "source": [
    "X_train, X_test = train_data.drop(columns = ['churn', 'international_plan', 'voice_mail_plan', 'account_length']), \\\n",
    "                    test_data.drop(columns = ['churn', 'international_plan', 'voice_mail_plan', 'account_length'])"
   ]
  },
  {
   "cell_type": "code",
   "execution_count": 159,
   "id": "9c72e9ae",
   "metadata": {},
   "outputs": [
    {
     "name": "stdout",
     "output_type": "stream",
     "text": [
      "Fitting 5 folds for each of 200 candidates, totalling 1000 fits\n",
      "Matriz de confusão\n",
      "\n",
      "[[1178  265]\n",
      " [  85  139]]\n",
      "\n",
      "               precision    recall  f1-score   support\n",
      "\n",
      "           0       0.93      0.82      0.87      1443\n",
      "           1       0.34      0.62      0.44       224\n",
      "\n",
      "    accuracy                           0.79      1667\n",
      "   macro avg       0.64      0.72      0.66      1667\n",
      "weighted avg       0.85      0.79      0.81      1667\n",
      "\n"
     ]
    }
   ],
   "source": [
    "train_n_score_model(modelo3, X_train, y_train, X_test, y_test)"
   ]
  },
  {
   "cell_type": "markdown",
   "id": "2e80a8f3",
   "metadata": {},
   "source": [
    "O resultado foi muito próximo ao obtido anteriormente. A acurácia diminuiu um pouco mas o F1-Score Macro aumentou."
   ]
  },
  {
   "cell_type": "markdown",
   "id": "e29b08c6",
   "metadata": {},
   "source": [
    "## Modelo 4 - Decision Tree"
   ]
  },
  {
   "cell_type": "code",
   "execution_count": 161,
   "id": "bb33a650",
   "metadata": {},
   "outputs": [
    {
     "name": "stdout",
     "output_type": "stream",
     "text": [
      "Matriz de confusão\n",
      "\n",
      "[[1331  112]\n",
      " [  96  128]]\n",
      "\n",
      "               precision    recall  f1-score   support\n",
      "\n",
      "           0       0.93      0.92      0.93      1443\n",
      "           1       0.53      0.57      0.55       224\n",
      "\n",
      "    accuracy                           0.88      1667\n",
      "   macro avg       0.73      0.75      0.74      1667\n",
      "weighted avg       0.88      0.88      0.88      1667\n",
      "\n"
     ]
    }
   ],
   "source": [
    "modelo4 = DecisionTreeClassifier()\n",
    "\n",
    "train_n_score_model(modelo4, X_train, y_train, X_test, y_test)"
   ]
  },
  {
   "cell_type": "markdown",
   "id": "11a7235b",
   "metadata": {},
   "source": [
    "Todas as métricas do modelo Decision Tree foram melhores que o modelo de Regressão Logística. Pode-se tentar utilizar um Random Forest."
   ]
  },
  {
   "cell_type": "markdown",
   "id": "3211839b",
   "metadata": {},
   "source": [
    "## Modelo 5 - Random Forest"
   ]
  },
  {
   "cell_type": "code",
   "execution_count": 164,
   "id": "c66a830e",
   "metadata": {
    "scrolled": true
   },
   "outputs": [
    {
     "name": "stdout",
     "output_type": "stream",
     "text": [
      "Matriz de confusão\n",
      "\n",
      "[[1438    5]\n",
      " [ 107  117]]\n",
      "\n",
      "               precision    recall  f1-score   support\n",
      "\n",
      "           0       0.93      1.00      0.96      1443\n",
      "           1       0.96      0.52      0.68       224\n",
      "\n",
      "    accuracy                           0.93      1667\n",
      "   macro avg       0.94      0.76      0.82      1667\n",
      "weighted avg       0.93      0.93      0.92      1667\n",
      "\n"
     ]
    }
   ],
   "source": [
    "modelo5 = RandomForestClassifier()\n",
    "\n",
    "train_n_score_model(modelo5, X_train, y_train, X_test, y_test)"
   ]
  },
  {
   "cell_type": "markdown",
   "id": "d32e753c",
   "metadata": {},
   "source": [
    "O modelo Random Forest teve performance muito boa, com acurácia acima de 93% e F1-Score Macro de 82%."
   ]
  },
  {
   "cell_type": "markdown",
   "id": "9ad2da20",
   "metadata": {},
   "source": [
    "## Importância das Features com Random Forest\n"
   ]
  },
  {
   "cell_type": "code",
   "execution_count": 166,
   "id": "3dedae42",
   "metadata": {},
   "outputs": [
    {
     "data": {
      "text/html": [
       "<div>\n",
       "<style scoped>\n",
       "    .dataframe tbody tr th:only-of-type {\n",
       "        vertical-align: middle;\n",
       "    }\n",
       "\n",
       "    .dataframe tbody tr th {\n",
       "        vertical-align: top;\n",
       "    }\n",
       "\n",
       "    .dataframe thead th {\n",
       "        text-align: right;\n",
       "    }\n",
       "</style>\n",
       "<table border=\"1\" class=\"dataframe\">\n",
       "  <thead>\n",
       "    <tr style=\"text-align: right;\">\n",
       "      <th></th>\n",
       "      <th>Feature Importance</th>\n",
       "    </tr>\n",
       "  </thead>\n",
       "  <tbody>\n",
       "    <tr>\n",
       "      <th>state</th>\n",
       "      <td>0.034868</td>\n",
       "    </tr>\n",
       "    <tr>\n",
       "      <th>number_vmail_messages</th>\n",
       "      <td>0.046768</td>\n",
       "    </tr>\n",
       "    <tr>\n",
       "      <th>total_day_minutes</th>\n",
       "      <td>0.158646</td>\n",
       "    </tr>\n",
       "    <tr>\n",
       "      <th>total_day_calls</th>\n",
       "      <td>0.044928</td>\n",
       "    </tr>\n",
       "    <tr>\n",
       "      <th>total_day_charge</th>\n",
       "      <td>0.155529</td>\n",
       "    </tr>\n",
       "    <tr>\n",
       "      <th>total_eve_minutes</th>\n",
       "      <td>0.083134</td>\n",
       "    </tr>\n",
       "    <tr>\n",
       "      <th>total_eve_calls</th>\n",
       "      <td>0.038292</td>\n",
       "    </tr>\n",
       "    <tr>\n",
       "      <th>total_eve_charge</th>\n",
       "      <td>0.076169</td>\n",
       "    </tr>\n",
       "    <tr>\n",
       "      <th>total_night_minutes</th>\n",
       "      <td>0.048979</td>\n",
       "    </tr>\n",
       "    <tr>\n",
       "      <th>total_night_calls</th>\n",
       "      <td>0.041905</td>\n",
       "    </tr>\n",
       "    <tr>\n",
       "      <th>total_night_charge</th>\n",
       "      <td>0.048137</td>\n",
       "    </tr>\n",
       "    <tr>\n",
       "      <th>total_intl_minutes</th>\n",
       "      <td>0.040525</td>\n",
       "    </tr>\n",
       "    <tr>\n",
       "      <th>total_intl_calls</th>\n",
       "      <td>0.029353</td>\n",
       "    </tr>\n",
       "    <tr>\n",
       "      <th>total_intl_charge</th>\n",
       "      <td>0.041441</td>\n",
       "    </tr>\n",
       "    <tr>\n",
       "      <th>number_customer_service_calls</th>\n",
       "      <td>0.104323</td>\n",
       "    </tr>\n",
       "    <tr>\n",
       "      <th>special_plan</th>\n",
       "      <td>0.000000</td>\n",
       "    </tr>\n",
       "    <tr>\n",
       "      <th>old_account</th>\n",
       "      <td>0.007003</td>\n",
       "    </tr>\n",
       "  </tbody>\n",
       "</table>\n",
       "</div>"
      ],
      "text/plain": [
       "                               Feature Importance\n",
       "state                                    0.034868\n",
       "number_vmail_messages                    0.046768\n",
       "total_day_minutes                        0.158646\n",
       "total_day_calls                          0.044928\n",
       "total_day_charge                         0.155529\n",
       "total_eve_minutes                        0.083134\n",
       "total_eve_calls                          0.038292\n",
       "total_eve_charge                         0.076169\n",
       "total_night_minutes                      0.048979\n",
       "total_night_calls                        0.041905\n",
       "total_night_charge                       0.048137\n",
       "total_intl_minutes                       0.040525\n",
       "total_intl_calls                         0.029353\n",
       "total_intl_charge                        0.041441\n",
       "number_customer_service_calls            0.104323\n",
       "special_plan                             0.000000\n",
       "old_account                              0.007003"
      ]
     },
     "execution_count": 166,
     "metadata": {},
     "output_type": "execute_result"
    }
   ],
   "source": [
    "# Extrai a importância\n",
    "feature_importance = modelo5.feature_importances_\n",
    "feature_names = modelo5.feature_names_in_\n",
    "\n",
    "# Dicionário de importâncias\n",
    "importance_dict = {feature_names[i]: feature_importance[i] for i in range(len(feature_names))}\n",
    "\n",
    "# Constrói um DataFrame a partir do dicionário\n",
    "df_imp = pd.DataFrame(importance_dict, index=['Feature Importance'])\n",
    "\n",
    "# Transpõe o Dataframe\n",
    "df_imp = df_imp.T\n",
    "\n",
    "# Mostra o resultado final\n",
    "df_imp"
   ]
  },
  {
   "cell_type": "code",
   "execution_count": 167,
   "id": "118e0003",
   "metadata": {},
   "outputs": [],
   "source": [
    "plot = df_imp.sort_values(ascending=False, by=['Feature Importance'])"
   ]
  },
  {
   "cell_type": "code",
   "execution_count": 177,
   "id": "e6a397b7",
   "metadata": {},
   "outputs": [
    {
     "data": {
      "image/png": "[encoded data removed]",
      "text/plain": [
       "<Figure size 2000x1200 with 1 Axes>"
      ]
     },
     "metadata": {},
     "output_type": "display_data"
    }
   ],
   "source": [
    "plt.figure(figsize=(20,12))\n",
    "sns.barplot(data = plot, x=plot.index, y = 'Feature Importance')\n",
    "plt.title('Importância da Feature para o Algoritmo RandomForest')\n",
    "plt.xticks(rotation = 90);"
   ]
  },
  {
   "cell_type": "markdown",
   "id": "88fdca45",
   "metadata": {},
   "source": [
    "As variáveis criadas na Engenharia de Atributos são as com menor importância. Elas serão removida do modelo. Pode-se testar se as variáveis originais são mais úteis na predição."
   ]
  },
  {
   "cell_type": "code",
   "execution_count": 175,
   "id": "f0a42a4f",
   "metadata": {},
   "outputs": [],
   "source": [
    "X_train, X_test = train_data.drop(columns = ['churn', 'special_plan', 'old_account']), \\\n",
    "                    test_data.drop(columns = ['churn', 'special_plan', 'old_account'])"
   ]
  },
  {
   "cell_type": "code",
   "execution_count": 176,
   "id": "af072ca3",
   "metadata": {},
   "outputs": [
    {
     "name": "stdout",
     "output_type": "stream",
     "text": [
      "Matriz de confusão\n",
      "\n",
      "[[1441    2]\n",
      " [  66  158]]\n",
      "\n",
      "               precision    recall  f1-score   support\n",
      "\n",
      "           0       0.96      1.00      0.98      1443\n",
      "           1       0.99      0.71      0.82       224\n",
      "\n",
      "    accuracy                           0.96      1667\n",
      "   macro avg       0.97      0.85      0.90      1667\n",
      "weighted avg       0.96      0.96      0.96      1667\n",
      "\n"
     ]
    }
   ],
   "source": [
    "train_n_score_model(modelo5, X_train, y_train, X_test, y_test)"
   ]
  },
  {
   "cell_type": "markdown",
   "id": "82709966",
   "metadata": {},
   "source": [
    "Com as variáveis originais, o modelo alcançou 90% de F1 Score Macro."
   ]
  },
  {
   "cell_type": "code",
   "execution_count": 178,
   "id": "a6e54bde",
   "metadata": {},
   "outputs": [
    {
     "data": {
      "image/png": "[encoded data removed]",
      "text/plain": [
       "<Figure size 2000x1200 with 1 Axes>"
      ]
     },
     "metadata": {},
     "output_type": "display_data"
    }
   ],
   "source": [
    "# Extrai a importância\n",
    "feature_importance = modelo5.feature_importances_\n",
    "feature_names = modelo5.feature_names_in_\n",
    "\n",
    "# Dicionário de importâncias\n",
    "importance_dict = {feature_names[i]: feature_importance[i] for i in range(len(feature_names))}\n",
    "\n",
    "# Constrói um DataFrame a partir do dicionário\n",
    "df_imp = pd.DataFrame(importance_dict, index=['Feature Importance'])\n",
    "\n",
    "# Transpõe o Dataframe\n",
    "df_imp = df_imp.T\n",
    "\n",
    "# Mostra o resultado final\n",
    "df_imp\n",
    "\n",
    "# Objeto plot\n",
    "plot = df_imp.sort_values(ascending=False, by=['Feature Importance'])\n",
    "\n",
    "# Gráfico\n",
    "plt.figure(figsize=(20,12))\n",
    "sns.barplot(data = plot, x=plot.index, y = 'Feature Importance')\n",
    "plt.title('Importância da Feature para o Algoritmo RandomForest')\n",
    "plt.xticks(rotation = 90);"
   ]
  },
  {
   "cell_type": "markdown",
   "id": "070df95d",
   "metadata": {},
   "source": [
    "A variável international_plan é a quarta mais importante para as previsões, já a variável voice_mail plan é a segunda menos importante. Por hora, todas as variáveis serão mantidas no modelo."
   ]
  },
  {
   "cell_type": "markdown",
   "id": "02923fbf",
   "metadata": {},
   "source": [
    "## Modelo 6 - Random Forest com Otimização de Hiperparâmetros"
   ]
  },
  {
   "cell_type": "code",
   "execution_count": 180,
   "id": "9f8b7350",
   "metadata": {},
   "outputs": [],
   "source": [
    "# Criando um dicionário para o Grid-Search\n",
    "param_grid = {'n_estimators': range(100, 600, 100),\n",
    "              'criterion': ['gini', 'entropy'],\n",
    "              'max_depth': range(4,10),\n",
    "              'bootstrap': [True, False]}\n",
    "\n",
    "# GridSearch\n",
    "modelo6 = GridSearchCV(estimator= RandomForestClassifier(), \n",
    "                                  param_grid= param_grid,\n",
    "                                  cv=5, \n",
    "                                  n_jobs=-1, \n",
    "                                  scoring='f1', \n",
    "                                  verbose=2)"
   ]
  },
  {
   "cell_type": "code",
   "execution_count": 181,
   "id": "e80ead73",
   "metadata": {},
   "outputs": [
    {
     "name": "stdout",
     "output_type": "stream",
     "text": [
      "Fitting 5 folds for each of 120 candidates, totalling 600 fits\n",
      "Matriz de confusão\n",
      "\n",
      "[[1440    3]\n",
      " [  66  158]]\n",
      "\n",
      "               precision    recall  f1-score   support\n",
      "\n",
      "           0       0.96      1.00      0.98      1443\n",
      "           1       0.98      0.71      0.82       224\n",
      "\n",
      "    accuracy                           0.96      1667\n",
      "   macro avg       0.97      0.85      0.90      1667\n",
      "weighted avg       0.96      0.96      0.96      1667\n",
      "\n"
     ]
    }
   ],
   "source": [
    "train_n_score_model(modelo6, X_train, y_train, X_test, y_test)"
   ]
  },
  {
   "cell_type": "code",
   "execution_count": 182,
   "id": "99f7ff53",
   "metadata": {},
   "outputs": [
    {
     "data": {
      "text/plain": [
       "{'bootstrap': False,\n",
       " 'criterion': 'entropy',\n",
       " 'max_depth': 9,\n",
       " 'n_estimators': 400}"
      ]
     },
     "execution_count": 182,
     "metadata": {},
     "output_type": "execute_result"
    }
   ],
   "source": [
    "modelo6.best_params_"
   ]
  },
  {
   "cell_type": "markdown",
   "id": "386b54a8",
   "metadata": {},
   "source": [
    "A otimização de hiperparâmetros não melhorou a performance do modelo. Pode-se testar outros algoritmos."
   ]
  },
  {
   "cell_type": "markdown",
   "id": "8dcc7354",
   "metadata": {},
   "source": [
    "## Modelo 7 - XGBoost Classifier"
   ]
  },
  {
   "cell_type": "code",
   "execution_count": 184,
   "id": "ad0d6f85",
   "metadata": {},
   "outputs": [
    {
     "name": "stdout",
     "output_type": "stream",
     "text": [
      "Matriz de confusão\n",
      "\n",
      "[[1433   10]\n",
      " [  61  163]]\n",
      "\n",
      "               precision    recall  f1-score   support\n",
      "\n",
      "           0       0.96      0.99      0.98      1443\n",
      "           1       0.94      0.73      0.82       224\n",
      "\n",
      "    accuracy                           0.96      1667\n",
      "   macro avg       0.95      0.86      0.90      1667\n",
      "weighted avg       0.96      0.96      0.96      1667\n",
      "\n"
     ]
    }
   ],
   "source": [
    "modelo7 = XGBClassifier()\n",
    "\n",
    "train_n_score_model(modelo7, X_train, y_train, X_test, y_test)"
   ]
  },
  {
   "cell_type": "markdown",
   "id": "3fa0cfcf",
   "metadata": {},
   "source": [
    "## Modelo 8 - XGBoost com parâmetro scale_pos_weight\n",
    "\n",
    "O parâmetro scale_pos_weight é usado em casos de classes desbalanceadas para melhorar a performance do modelo. Seu valor ideal é o da proporção entre classe positiva e negativa."
   ]
  },
  {
   "cell_type": "code",
   "execution_count": 194,
   "id": "0ab8a508",
   "metadata": {},
   "outputs": [],
   "source": [
    "classes = np.bincount(y_train)"
   ]
  },
  {
   "cell_type": "code",
   "execution_count": 196,
   "id": "6b654645",
   "metadata": {},
   "outputs": [
    {
     "name": "stdout",
     "output_type": "stream",
     "text": [
      "Matriz de confusão\n",
      "\n",
      "[[1424   19]\n",
      " [  47  177]]\n",
      "\n",
      "               precision    recall  f1-score   support\n",
      "\n",
      "           0       0.97      0.99      0.98      1443\n",
      "           1       0.90      0.79      0.84       224\n",
      "\n",
      "    accuracy                           0.96      1667\n",
      "   macro avg       0.94      0.89      0.91      1667\n",
      "weighted avg       0.96      0.96      0.96      1667\n",
      "\n"
     ]
    }
   ],
   "source": [
    "modelo8 = XGBClassifier(scale_pos_weight = classes[0]/classes[1])\n",
    "\n",
    "train_n_score_model(modelo8, X_train, y_train, X_test, y_test)"
   ]
  },
  {
   "cell_type": "markdown",
   "id": "d79ab126",
   "metadata": {},
   "source": [
    "## Modelo 9 - XGBoost com GridSearch"
   ]
  },
  {
   "cell_type": "code",
   "execution_count": 199,
   "id": "85d6d0b7",
   "metadata": {},
   "outputs": [
    {
     "name": "stdout",
     "output_type": "stream",
     "text": [
      "Fitting 5 folds for each of 750 candidates, totalling 3750 fits\n",
      "Matriz de confusão\n",
      "\n",
      "[[1422   21]\n",
      " [  48  176]]\n",
      "\n",
      "               precision    recall  f1-score   support\n",
      "\n",
      "           0       0.97      0.99      0.98      1443\n",
      "           1       0.89      0.79      0.84       224\n",
      "\n",
      "    accuracy                           0.96      1667\n",
      "   macro avg       0.93      0.89      0.91      1667\n",
      "weighted avg       0.96      0.96      0.96      1667\n",
      "\n"
     ]
    }
   ],
   "source": [
    "param_grid = {'max_depth': [3, 4, 5, 6, 7],\n",
    "              'learning_rate': [0.1, 0.2, 0.3, 0.4, 0.5, 0.6, 0.7, 0.8, 0.9, 1],\n",
    "              'n_estimators': range(100,600,100),\n",
    "              'gamma': [0, 0.1, 0.2]}\n",
    "\n",
    "modelo9 = GridSearchCV(XGBClassifier(scale_pos_weight = classes[0]/classes[1]),\n",
    "                                     cv = 5,\n",
    "                                     param_grid = param_grid,\n",
    "                                     n_jobs = -1,\n",
    "                                     scoring = 'f1',\n",
    "                                     verbose = 2)\n",
    "\n",
    "train_n_score_model(modelo9, X_train, y_train, X_test, y_test)"
   ]
  },
  {
   "cell_type": "code",
   "execution_count": null,
   "id": "d7faf5db",
   "metadata": {},
   "outputs": [],
   "source": []
  }
 ],
 "metadata": {
  "kernelspec": {
   "display_name": "Python 3 (ipykernel)",
   "language": "python",
   "name": "python3"
  },
  "language_info": {
   "codemirror_mode": {
    "name": "ipython",
    "version": 3
   },
   "file_extension": ".py",
   "mimetype": "text/x-python",
   "name": "python",
   "nbconvert_exporter": "python",
   "pygments_lexer": "ipython3",
   "version": "3.9.16"
  }
 },
 "nbformat": 4,
 "nbformat_minor": 5
}
