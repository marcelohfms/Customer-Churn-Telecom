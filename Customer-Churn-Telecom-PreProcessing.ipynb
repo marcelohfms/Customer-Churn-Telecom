{
 "cells": [
  {
   "cell_type": "markdown",
   "id": "436b9388",
   "metadata": {},
   "source": [
    "# Customer Churn Telecom\n",
    "\n",
    "Customer Churn (ou Rotatividade de Clientes, em uma tradução livre) refere-se a uma decisão tomada pelo cliente sobre o término do relacionamento comercial. Refere-se também à perda de clientes. A fidelidade do cliente e a rotatividade de clientes sempre somam 100%. Se uma empresa tem uma taxa de fidelidade de 60%, então a taxa de perda de clientes é de 40%. De acordo com a\n",
    "regra de lucratividade do cliente 80/20, 20% dos clientes estão gerando 80% da receita. Portanto, é muito importante prever os usuários que provavelmente abandonarão o relacionamento comercial e os fatores que afetam as decisões do cliente.\n",
    "\n",
    "Neste projeto, o objetivo é prever o Customer Churn em uma Operadora de Telecom.\n",
    "\n",
    "## Pré-Processamento de Dados\n",
    "\n",
    "Antes da etapa de modelagem preditiva, é preciso pré-processar os dados. O pré-processamento é necessário por diversos motivos, entre eles:\n",
    "\n",
    "* **Lidar com valores _missing_**: Valores _missing_ ou \"faltantes\" têm impacto significativo na capacidade preditiva dos modelos e por isso devem ser eliminados removendo os registros ou utilizando técnicas de imputação.\n",
    "* **Diferença de escala nos dados**: Em muitos modelos de Machine Learning, a diferença na escala dos dados pode levar ao treinamento incorreto do modelo por conta de vieses. Logo os dados devem ser padronizados ou normalizados sempre que possível.\n",
    "* **Engenharia de atributos**: Os dados podem ser combinados ou transformados de modo a construir atributos que possam conter informações mais relevantes para a previsão do modelo.\n",
    "* **Encoding de variáveis categóricas**: Modelos de Machine Learning são essencialmente matemática e estatística, e portanto não capazes de processar dados em forma literal ou de string. Portanto as variáveis categóricas devem ser codificadas como números.\n",
    "* **Remoção de _outliers_**: _Outliers_, ou anomalias, são dados que estão muito distantes da média e que podem impactar significativamente a performance dos modelos preditivos.\n",
    "\n",
    "Portanto, o Pré-Processamento é uma etapa crítica em um processo de Machine Learning para garantir que o modelo preditivo seja treinado com dados de alta qualidade e possua boa performance e previsões precisas."
   ]
  },
  {
   "cell_type": "code",
   "execution_count": 1,
   "id": "cc24da17",
   "metadata": {},
   "outputs": [],
   "source": [
    "# Imports\n",
    "import pandas as pd\n",
    "import numpy as np\n",
    "from sklearn.preprocessing import StandardScaler, LabelEncoder"
   ]
  },
  {
   "cell_type": "code",
   "execution_count": 2,
   "id": "2f66064d",
   "metadata": {},
   "outputs": [],
   "source": [
    "df = pd.read_csv(\"projeto4_telecom_treino.csv\", index_col=0)"
   ]
  },
  {
   "cell_type": "code",
   "execution_count": 3,
   "id": "d7635046",
   "metadata": {},
   "outputs": [],
   "source": [
    "df_copy = df.copy()"
   ]
  },
  {
   "cell_type": "markdown",
   "id": "ad113d1a",
   "metadata": {},
   "source": [
    "## 1- Lidando com valores missing\n",
    "\n",
    "É necessário verificar se há valores missing nos dados."
   ]
  },
  {
   "cell_type": "code",
   "execution_count": 4,
   "id": "ac294972",
   "metadata": {},
   "outputs": [
    {
     "data": {
      "text/plain": [
       "state                            0\n",
       "account_length                   0\n",
       "area_code                        0\n",
       "international_plan               0\n",
       "voice_mail_plan                  0\n",
       "number_vmail_messages            0\n",
       "total_day_minutes                0\n",
       "total_day_calls                  0\n",
       "total_day_charge                 0\n",
       "total_eve_minutes                0\n",
       "total_eve_calls                  0\n",
       "total_eve_charge                 0\n",
       "total_night_minutes              0\n",
       "total_night_calls                0\n",
       "total_night_charge               0\n",
       "total_intl_minutes               0\n",
       "total_intl_calls                 0\n",
       "total_intl_charge                0\n",
       "number_customer_service_calls    0\n",
       "churn                            0\n",
       "dtype: int64"
      ]
     },
     "execution_count": 4,
     "metadata": {},
     "output_type": "execute_result"
    }
   ],
   "source": [
    "df.isna().sum()"
   ]
  },
  {
   "cell_type": "markdown",
   "id": "c8454b2c",
   "metadata": {},
   "source": [
    "Não há valores missing nos dados, pode-se seguir para a próxima etapa."
   ]
  },
  {
   "cell_type": "markdown",
   "id": "e573d74c",
   "metadata": {},
   "source": [
    "## 2- Padronizando os dados\n",
    "\n",
    "Como os dados possuem muitos outliers, a padronização será usada como tratamento para variáveis numéricas."
   ]
  },
  {
   "cell_type": "code",
   "execution_count": 5,
   "id": "1d8cb9e6",
   "metadata": {},
   "outputs": [
    {
     "data": {
      "text/plain": [
       "['account_length',\n",
       " 'number_vmail_messages',\n",
       " 'total_day_minutes',\n",
       " 'total_day_calls',\n",
       " 'total_day_charge',\n",
       " 'total_eve_minutes',\n",
       " 'total_eve_calls',\n",
       " 'total_eve_charge',\n",
       " 'total_night_minutes',\n",
       " 'total_night_calls',\n",
       " 'total_night_charge',\n",
       " 'total_intl_minutes',\n",
       " 'total_intl_calls',\n",
       " 'total_intl_charge',\n",
       " 'number_customer_service_calls']"
      ]
     },
     "execution_count": 5,
     "metadata": {},
     "output_type": "execute_result"
    }
   ],
   "source": [
    "# Variáveis numéricas\n",
    "numeric_vars = [var for var in df.columns if df[var].dtype != 'object']\n",
    "numeric_vars"
   ]
  },
  {
   "cell_type": "code",
   "execution_count": 6,
   "id": "d5a0a71a",
   "metadata": {},
   "outputs": [],
   "source": [
    "scaler = StandardScaler()\n",
    "df[numeric_vars] = scaler.fit_transform(df[numeric_vars])"
   ]
  },
  {
   "cell_type": "markdown",
   "id": "9d2e53b6",
   "metadata": {},
   "source": [
    "## 3- Encoding de variáveis categóricas\n",
    "\n",
    "As variáveis categóricas deste dataset são o estado, o código de área do estado, a indicação se o cliente possui plano internacional ou voice-mail e o churn. Não será feito encoding do código de área pois essa variável é redundante com o estado."
   ]
  },
  {
   "cell_type": "code",
   "execution_count": 7,
   "id": "3a87ff3f",
   "metadata": {},
   "outputs": [
    {
     "data": {
      "text/plain": [
       "['state', 'area_code', 'international_plan', 'voice_mail_plan', 'churn']"
      ]
     },
     "execution_count": 7,
     "metadata": {},
     "output_type": "execute_result"
    }
   ],
   "source": [
    "## Variáveis categóricas\n",
    "categorical_vars = [col for col in df.columns if col not in numeric_vars]\n",
    "categorical_vars"
   ]
  },
  {
   "cell_type": "code",
   "execution_count": 8,
   "id": "77ae4ca6",
   "metadata": {},
   "outputs": [],
   "source": [
    "df = df.drop(columns = 'area_code')"
   ]
  },
  {
   "cell_type": "code",
   "execution_count": 9,
   "id": "9d61eecc",
   "metadata": {},
   "outputs": [],
   "source": [
    "# State\n",
    "lab_encoder = LabelEncoder()\n",
    "df['state'] = lab_encoder.fit_transform(df['state'])"
   ]
  },
  {
   "cell_type": "code",
   "execution_count": 10,
   "id": "843320e6",
   "metadata": {},
   "outputs": [],
   "source": [
    "# Planos e churn\n",
    "df['international_plan'] = np.where(df['international_plan'] == 'yes', 1, 0)\n",
    "df['voice_mail_plan'] = np.where(df['voice_mail_plan'] == 'yes', 1, 0)\n",
    "df['churn'] = np.where(df['churn'] == 'yes', 1, 0)"
   ]
  },
  {
   "cell_type": "markdown",
   "id": "2c27c5da",
   "metadata": {},
   "source": [
    "## 4- Engenharia de atributos\n",
    "\n",
    "Serão criadas duas novas variáveis:\n",
    "\n",
    "* special_plan: Variável categórica que indica se o cliente tem plano internacional ou plano voice-mail. Essencialmente um \"OR\" lógico.\n",
    "* old_account: Variável categórica que indica se o cliente tem a conta há mais de 100 dias ou não. (binária)\n"
   ]
  },
  {
   "cell_type": "code",
   "execution_count": 11,
   "id": "06429b08",
   "metadata": {},
   "outputs": [
    {
     "data": {
      "text/plain": [
       "0    3333\n",
       "Name: special_plan, dtype: int64"
      ]
     },
     "execution_count": 11,
     "metadata": {},
     "output_type": "execute_result"
    }
   ],
   "source": [
    "df['special_plan'] = np.where((df['international_plan'] == 'yes') | (df['voice_mail_plan'] == 'yes'), 1, 0)\n",
    "df['special_plan'].value_counts()"
   ]
  },
  {
   "cell_type": "code",
   "execution_count": 12,
   "id": "e58bfe5a",
   "metadata": {},
   "outputs": [
    {
     "data": {
      "text/plain": [
       "1    1669\n",
       "0    1664\n",
       "Name: old_account, dtype: int64"
      ]
     },
     "execution_count": 12,
     "metadata": {},
     "output_type": "execute_result"
    }
   ],
   "source": [
    "# Usando df_copy pois contém o valor original de account_length\n",
    "df['old_account'] = np.where(df_copy['account_length'] > 100, 1, 0)\n",
    "df['old_account'].value_counts()"
   ]
  },
  {
   "cell_type": "markdown",
   "id": "e01b57ae",
   "metadata": {},
   "source": [
    "## 5- Remoção de outliers\n",
    "\n",
    "Primeiro é necessário verificar quantos outliers existem em cada variável."
   ]
  },
  {
   "cell_type": "code",
   "execution_count": 13,
   "id": "c919b40d",
   "metadata": {},
   "outputs": [
    {
     "data": {
      "text/plain": [
       "account_length                    7\n",
       "number_vmail_messages             3\n",
       "total_day_minutes                 3\n",
       "total_day_calls                   2\n",
       "total_day_charge                  3\n",
       "total_eve_minutes                 3\n",
       "total_eve_calls                   3\n",
       "total_eve_charge                  3\n",
       "total_night_minutes               7\n",
       "total_night_calls                 3\n",
       "total_night_charge                7\n",
       "total_intl_minutes                2\n",
       "total_intl_calls                 50\n",
       "total_intl_charge                 2\n",
       "number_customer_service_calls    35\n",
       "dtype: int64"
      ]
     },
     "execution_count": 13,
     "metadata": {},
     "output_type": "execute_result"
    }
   ],
   "source": [
    "# Número de outliers por variável\n",
    "abs(df[numeric_vars] > 3).sum()"
   ]
  },
  {
   "cell_type": "code",
   "execution_count": 14,
   "id": "7306db01",
   "metadata": {},
   "outputs": [],
   "source": [
    "# Filtrando outliers\n",
    "df = df[abs(df[numeric_vars] <= 3).all(axis = 1)]"
   ]
  },
  {
   "cell_type": "code",
   "execution_count": 15,
   "id": "d3d7be0a",
   "metadata": {},
   "outputs": [
    {
     "data": {
      "text/plain": [
       "account_length                   0\n",
       "number_vmail_messages            0\n",
       "total_day_minutes                0\n",
       "total_day_calls                  0\n",
       "total_day_charge                 0\n",
       "total_eve_minutes                0\n",
       "total_eve_calls                  0\n",
       "total_eve_charge                 0\n",
       "total_night_minutes              0\n",
       "total_night_calls                0\n",
       "total_night_charge               0\n",
       "total_intl_minutes               0\n",
       "total_intl_calls                 0\n",
       "total_intl_charge                0\n",
       "number_customer_service_calls    0\n",
       "dtype: int64"
      ]
     },
     "execution_count": 15,
     "metadata": {},
     "output_type": "execute_result"
    }
   ],
   "source": [
    "# Número de outliers por variável\n",
    "abs(df[numeric_vars] > 3).sum()"
   ]
  },
  {
   "cell_type": "code",
   "execution_count": 16,
   "id": "81b61492",
   "metadata": {},
   "outputs": [
    {
     "data": {
      "text/plain": [
       "3215"
      ]
     },
     "execution_count": 16,
     "metadata": {},
     "output_type": "execute_result"
    }
   ],
   "source": [
    "# Tamanho do dataframe após filtrar outliers\n",
    "len(df)"
   ]
  },
  {
   "cell_type": "code",
   "execution_count": 17,
   "id": "bf38e935",
   "metadata": {},
   "outputs": [
    {
     "name": "stdout",
     "output_type": "stream",
     "text": [
      "O novo dataset tem 96.46% dos dados do anterior.\n"
     ]
    }
   ],
   "source": [
    "print(f'O novo dataset tem {len(df)/len(df_copy)*100:.2f}% dos dados do anterior.')"
   ]
  },
  {
   "cell_type": "markdown",
   "id": "69b868c7",
   "metadata": {},
   "source": [
    "Os dados são suficientes para o treinamento do modelo."
   ]
  },
  {
   "cell_type": "markdown",
   "id": "7225d061",
   "metadata": {},
   "source": [
    "## Pré-Processando dados de teste\n",
    "\n",
    "Para avaliar do modelo será necessário aplicar todas as transformações que foram aplicadas aos dados de treino também aos dados de teste."
   ]
  },
  {
   "cell_type": "code",
   "execution_count": 18,
   "id": "87e24915",
   "metadata": {
    "scrolled": true
   },
   "outputs": [
    {
     "data": {
      "text/html": [
       "<div>\n",
       "<style scoped>\n",
       "    .dataframe tbody tr th:only-of-type {\n",
       "        vertical-align: middle;\n",
       "    }\n",
       "\n",
       "    .dataframe tbody tr th {\n",
       "        vertical-align: top;\n",
       "    }\n",
       "\n",
       "    .dataframe thead th {\n",
       "        text-align: right;\n",
       "    }\n",
       "</style>\n",
       "<table border=\"1\" class=\"dataframe\">\n",
       "  <thead>\n",
       "    <tr style=\"text-align: right;\">\n",
       "      <th></th>\n",
       "      <th>state</th>\n",
       "      <th>account_length</th>\n",
       "      <th>area_code</th>\n",
       "      <th>international_plan</th>\n",
       "      <th>voice_mail_plan</th>\n",
       "      <th>number_vmail_messages</th>\n",
       "      <th>total_day_minutes</th>\n",
       "      <th>total_day_calls</th>\n",
       "      <th>total_day_charge</th>\n",
       "      <th>total_eve_minutes</th>\n",
       "      <th>total_eve_calls</th>\n",
       "      <th>total_eve_charge</th>\n",
       "      <th>total_night_minutes</th>\n",
       "      <th>total_night_calls</th>\n",
       "      <th>total_night_charge</th>\n",
       "      <th>total_intl_minutes</th>\n",
       "      <th>total_intl_calls</th>\n",
       "      <th>total_intl_charge</th>\n",
       "      <th>number_customer_service_calls</th>\n",
       "      <th>churn</th>\n",
       "    </tr>\n",
       "  </thead>\n",
       "  <tbody>\n",
       "    <tr>\n",
       "      <th>1</th>\n",
       "      <td>HI</td>\n",
       "      <td>101</td>\n",
       "      <td>area_code_510</td>\n",
       "      <td>no</td>\n",
       "      <td>no</td>\n",
       "      <td>0</td>\n",
       "      <td>70.9</td>\n",
       "      <td>123</td>\n",
       "      <td>12.05</td>\n",
       "      <td>211.9</td>\n",
       "      <td>73</td>\n",
       "      <td>18.01</td>\n",
       "      <td>236.0</td>\n",
       "      <td>73</td>\n",
       "      <td>10.62</td>\n",
       "      <td>10.6</td>\n",
       "      <td>3</td>\n",
       "      <td>2.86</td>\n",
       "      <td>3</td>\n",
       "      <td>no</td>\n",
       "    </tr>\n",
       "    <tr>\n",
       "      <th>2</th>\n",
       "      <td>MT</td>\n",
       "      <td>137</td>\n",
       "      <td>area_code_510</td>\n",
       "      <td>no</td>\n",
       "      <td>no</td>\n",
       "      <td>0</td>\n",
       "      <td>223.6</td>\n",
       "      <td>86</td>\n",
       "      <td>38.01</td>\n",
       "      <td>244.8</td>\n",
       "      <td>139</td>\n",
       "      <td>20.81</td>\n",
       "      <td>94.2</td>\n",
       "      <td>81</td>\n",
       "      <td>4.24</td>\n",
       "      <td>9.5</td>\n",
       "      <td>7</td>\n",
       "      <td>2.57</td>\n",
       "      <td>0</td>\n",
       "      <td>no</td>\n",
       "    </tr>\n",
       "    <tr>\n",
       "      <th>3</th>\n",
       "      <td>OH</td>\n",
       "      <td>103</td>\n",
       "      <td>area_code_408</td>\n",
       "      <td>no</td>\n",
       "      <td>yes</td>\n",
       "      <td>29</td>\n",
       "      <td>294.7</td>\n",
       "      <td>95</td>\n",
       "      <td>50.10</td>\n",
       "      <td>237.3</td>\n",
       "      <td>105</td>\n",
       "      <td>20.17</td>\n",
       "      <td>300.3</td>\n",
       "      <td>127</td>\n",
       "      <td>13.51</td>\n",
       "      <td>13.7</td>\n",
       "      <td>6</td>\n",
       "      <td>3.70</td>\n",
       "      <td>1</td>\n",
       "      <td>no</td>\n",
       "    </tr>\n",
       "    <tr>\n",
       "      <th>4</th>\n",
       "      <td>NM</td>\n",
       "      <td>99</td>\n",
       "      <td>area_code_415</td>\n",
       "      <td>no</td>\n",
       "      <td>no</td>\n",
       "      <td>0</td>\n",
       "      <td>216.8</td>\n",
       "      <td>123</td>\n",
       "      <td>36.86</td>\n",
       "      <td>126.4</td>\n",
       "      <td>88</td>\n",
       "      <td>10.74</td>\n",
       "      <td>220.6</td>\n",
       "      <td>82</td>\n",
       "      <td>9.93</td>\n",
       "      <td>15.7</td>\n",
       "      <td>2</td>\n",
       "      <td>4.24</td>\n",
       "      <td>1</td>\n",
       "      <td>no</td>\n",
       "    </tr>\n",
       "    <tr>\n",
       "      <th>5</th>\n",
       "      <td>SC</td>\n",
       "      <td>108</td>\n",
       "      <td>area_code_415</td>\n",
       "      <td>no</td>\n",
       "      <td>no</td>\n",
       "      <td>0</td>\n",
       "      <td>197.4</td>\n",
       "      <td>78</td>\n",
       "      <td>33.56</td>\n",
       "      <td>124.0</td>\n",
       "      <td>101</td>\n",
       "      <td>10.54</td>\n",
       "      <td>204.5</td>\n",
       "      <td>107</td>\n",
       "      <td>9.20</td>\n",
       "      <td>7.7</td>\n",
       "      <td>4</td>\n",
       "      <td>2.08</td>\n",
       "      <td>2</td>\n",
       "      <td>no</td>\n",
       "    </tr>\n",
       "    <tr>\n",
       "      <th>...</th>\n",
       "      <td>...</td>\n",
       "      <td>...</td>\n",
       "      <td>...</td>\n",
       "      <td>...</td>\n",
       "      <td>...</td>\n",
       "      <td>...</td>\n",
       "      <td>...</td>\n",
       "      <td>...</td>\n",
       "      <td>...</td>\n",
       "      <td>...</td>\n",
       "      <td>...</td>\n",
       "      <td>...</td>\n",
       "      <td>...</td>\n",
       "      <td>...</td>\n",
       "      <td>...</td>\n",
       "      <td>...</td>\n",
       "      <td>...</td>\n",
       "      <td>...</td>\n",
       "      <td>...</td>\n",
       "      <td>...</td>\n",
       "    </tr>\n",
       "    <tr>\n",
       "      <th>1663</th>\n",
       "      <td>HI</td>\n",
       "      <td>50</td>\n",
       "      <td>area_code_408</td>\n",
       "      <td>no</td>\n",
       "      <td>yes</td>\n",
       "      <td>40</td>\n",
       "      <td>235.7</td>\n",
       "      <td>127</td>\n",
       "      <td>40.07</td>\n",
       "      <td>223.0</td>\n",
       "      <td>126</td>\n",
       "      <td>18.96</td>\n",
       "      <td>297.5</td>\n",
       "      <td>116</td>\n",
       "      <td>13.39</td>\n",
       "      <td>9.9</td>\n",
       "      <td>5</td>\n",
       "      <td>2.67</td>\n",
       "      <td>2</td>\n",
       "      <td>no</td>\n",
       "    </tr>\n",
       "    <tr>\n",
       "      <th>1664</th>\n",
       "      <td>WV</td>\n",
       "      <td>152</td>\n",
       "      <td>area_code_415</td>\n",
       "      <td>no</td>\n",
       "      <td>no</td>\n",
       "      <td>0</td>\n",
       "      <td>184.2</td>\n",
       "      <td>90</td>\n",
       "      <td>31.31</td>\n",
       "      <td>256.8</td>\n",
       "      <td>73</td>\n",
       "      <td>21.83</td>\n",
       "      <td>213.6</td>\n",
       "      <td>113</td>\n",
       "      <td>9.61</td>\n",
       "      <td>14.7</td>\n",
       "      <td>2</td>\n",
       "      <td>3.97</td>\n",
       "      <td>3</td>\n",
       "      <td>yes</td>\n",
       "    </tr>\n",
       "    <tr>\n",
       "      <th>1665</th>\n",
       "      <td>DC</td>\n",
       "      <td>61</td>\n",
       "      <td>area_code_415</td>\n",
       "      <td>no</td>\n",
       "      <td>no</td>\n",
       "      <td>0</td>\n",
       "      <td>140.6</td>\n",
       "      <td>89</td>\n",
       "      <td>23.90</td>\n",
       "      <td>172.8</td>\n",
       "      <td>128</td>\n",
       "      <td>14.69</td>\n",
       "      <td>212.4</td>\n",
       "      <td>97</td>\n",
       "      <td>9.56</td>\n",
       "      <td>13.6</td>\n",
       "      <td>4</td>\n",
       "      <td>3.67</td>\n",
       "      <td>1</td>\n",
       "      <td>no</td>\n",
       "    </tr>\n",
       "    <tr>\n",
       "      <th>1666</th>\n",
       "      <td>DC</td>\n",
       "      <td>109</td>\n",
       "      <td>area_code_510</td>\n",
       "      <td>no</td>\n",
       "      <td>no</td>\n",
       "      <td>0</td>\n",
       "      <td>188.8</td>\n",
       "      <td>67</td>\n",
       "      <td>32.10</td>\n",
       "      <td>171.7</td>\n",
       "      <td>92</td>\n",
       "      <td>14.59</td>\n",
       "      <td>224.4</td>\n",
       "      <td>89</td>\n",
       "      <td>10.10</td>\n",
       "      <td>8.5</td>\n",
       "      <td>6</td>\n",
       "      <td>2.30</td>\n",
       "      <td>0</td>\n",
       "      <td>no</td>\n",
       "    </tr>\n",
       "    <tr>\n",
       "      <th>1667</th>\n",
       "      <td>VT</td>\n",
       "      <td>86</td>\n",
       "      <td>area_code_415</td>\n",
       "      <td>no</td>\n",
       "      <td>yes</td>\n",
       "      <td>34</td>\n",
       "      <td>129.4</td>\n",
       "      <td>102</td>\n",
       "      <td>22.00</td>\n",
       "      <td>267.1</td>\n",
       "      <td>104</td>\n",
       "      <td>22.70</td>\n",
       "      <td>154.8</td>\n",
       "      <td>100</td>\n",
       "      <td>6.97</td>\n",
       "      <td>9.3</td>\n",
       "      <td>16</td>\n",
       "      <td>2.51</td>\n",
       "      <td>0</td>\n",
       "      <td>no</td>\n",
       "    </tr>\n",
       "  </tbody>\n",
       "</table>\n",
       "<p>1667 rows × 20 columns</p>\n",
       "</div>"
      ],
      "text/plain": [
       "     state  account_length      area_code international_plan voice_mail_plan  \\\n",
       "1       HI             101  area_code_510                 no              no   \n",
       "2       MT             137  area_code_510                 no              no   \n",
       "3       OH             103  area_code_408                 no             yes   \n",
       "4       NM              99  area_code_415                 no              no   \n",
       "5       SC             108  area_code_415                 no              no   \n",
       "...    ...             ...            ...                ...             ...   \n",
       "1663    HI              50  area_code_408                 no             yes   \n",
       "1664    WV             152  area_code_415                 no              no   \n",
       "1665    DC              61  area_code_415                 no              no   \n",
       "1666    DC             109  area_code_510                 no              no   \n",
       "1667    VT              86  area_code_415                 no             yes   \n",
       "\n",
       "      number_vmail_messages  total_day_minutes  total_day_calls  \\\n",
       "1                         0               70.9              123   \n",
       "2                         0              223.6               86   \n",
       "3                        29              294.7               95   \n",
       "4                         0              216.8              123   \n",
       "5                         0              197.4               78   \n",
       "...                     ...                ...              ...   \n",
       "1663                     40              235.7              127   \n",
       "1664                      0              184.2               90   \n",
       "1665                      0              140.6               89   \n",
       "1666                      0              188.8               67   \n",
       "1667                     34              129.4              102   \n",
       "\n",
       "      total_day_charge  total_eve_minutes  total_eve_calls  total_eve_charge  \\\n",
       "1                12.05              211.9               73             18.01   \n",
       "2                38.01              244.8              139             20.81   \n",
       "3                50.10              237.3              105             20.17   \n",
       "4                36.86              126.4               88             10.74   \n",
       "5                33.56              124.0              101             10.54   \n",
       "...                ...                ...              ...               ...   \n",
       "1663             40.07              223.0              126             18.96   \n",
       "1664             31.31              256.8               73             21.83   \n",
       "1665             23.90              172.8              128             14.69   \n",
       "1666             32.10              171.7               92             14.59   \n",
       "1667             22.00              267.1              104             22.70   \n",
       "\n",
       "      total_night_minutes  total_night_calls  total_night_charge  \\\n",
       "1                   236.0                 73               10.62   \n",
       "2                    94.2                 81                4.24   \n",
       "3                   300.3                127               13.51   \n",
       "4                   220.6                 82                9.93   \n",
       "5                   204.5                107                9.20   \n",
       "...                   ...                ...                 ...   \n",
       "1663                297.5                116               13.39   \n",
       "1664                213.6                113                9.61   \n",
       "1665                212.4                 97                9.56   \n",
       "1666                224.4                 89               10.10   \n",
       "1667                154.8                100                6.97   \n",
       "\n",
       "      total_intl_minutes  total_intl_calls  total_intl_charge  \\\n",
       "1                   10.6                 3               2.86   \n",
       "2                    9.5                 7               2.57   \n",
       "3                   13.7                 6               3.70   \n",
       "4                   15.7                 2               4.24   \n",
       "5                    7.7                 4               2.08   \n",
       "...                  ...               ...                ...   \n",
       "1663                 9.9                 5               2.67   \n",
       "1664                14.7                 2               3.97   \n",
       "1665                13.6                 4               3.67   \n",
       "1666                 8.5                 6               2.30   \n",
       "1667                 9.3                16               2.51   \n",
       "\n",
       "      number_customer_service_calls churn  \n",
       "1                                 3    no  \n",
       "2                                 0    no  \n",
       "3                                 1    no  \n",
       "4                                 1    no  \n",
       "5                                 2    no  \n",
       "...                             ...   ...  \n",
       "1663                              2    no  \n",
       "1664                              3   yes  \n",
       "1665                              1    no  \n",
       "1666                              0    no  \n",
       "1667                              0    no  \n",
       "\n",
       "[1667 rows x 20 columns]"
      ]
     },
     "execution_count": 18,
     "metadata": {},
     "output_type": "execute_result"
    }
   ],
   "source": [
    "# Carregando dataset\n",
    "df_test = pd.read_csv(\"projeto4_telecom_teste.csv\", index_col=0)\n",
    "df_test"
   ]
  },
  {
   "cell_type": "code",
   "execution_count": 19,
   "id": "18747603",
   "metadata": {},
   "outputs": [],
   "source": [
    "# Cópia dos dados de teste\n",
    "df_test_copy = df_test.copy()\n",
    "\n",
    "# Valores missing\n",
    "df_test.dropna()\n",
    "\n",
    "# Padronização\n",
    "df_test[numeric_vars] = scaler.transform(df_test[numeric_vars])\n",
    "\n",
    "# Encoding das variáveis categóricas\n",
    "df_test = df_test.drop(columns='area_code')\n",
    "df_test['state'] = lab_encoder.transform(df_test['state'])\n",
    "df_test['international_plan'] = np.where(df_test['international_plan'] == 'yes', 1, 0)\n",
    "df_test['voice_mail_plan'] = np.where(df_test['voice_mail_plan'] == 'yes', 1, 0)\n",
    "df_test['churn'] = np.where(df_test['churn'] == 'yes', 1, 0)\n",
    "\n",
    "# Engenharia de atributos\n",
    "df_test['special_plan'] = np.where((df_test['international_plan'] == 'yes') | (df_test['voice_mail_plan'] == 'yes'), 1, 0)\n",
    "df_test['old_account'] = np.where(df_test_copy['account_length'] > 100, 1, 0)\n",
    "\n",
    "# A remoção de outliers não é necessária para dados de teste, apenas para treinamento do modelo"
   ]
  },
  {
   "cell_type": "markdown",
   "id": "ee869468",
   "metadata": {},
   "source": [
    "## Salvando os dados pré-processados\n",
    "\n",
    "Após todo o pré-processamento, os dados serão salvos para prosseguir para modelagem."
   ]
  },
  {
   "cell_type": "code",
   "execution_count": 20,
   "id": "33f55ce0",
   "metadata": {},
   "outputs": [],
   "source": [
    "df.to_csv(\"dados_treino_preproc.csv\", index=False)\n",
    "df_test.to_csv(\"dados_teste_preproc.csv\", index=False)"
   ]
  }
 ],
 "metadata": {
  "kernelspec": {
   "display_name": "Python 3 (ipykernel)",
   "language": "python",
   "name": "python3"
  },
  "language_info": {
   "codemirror_mode": {
    "name": "ipython",
    "version": 3
   },
   "file_extension": ".py",
   "mimetype": "text/x-python",
   "name": "python",
   "nbconvert_exporter": "python",
   "pygments_lexer": "ipython3",
   "version": "3.9.16"
  }
 },
 "nbformat": 4,
 "nbformat_minor": 5
}
