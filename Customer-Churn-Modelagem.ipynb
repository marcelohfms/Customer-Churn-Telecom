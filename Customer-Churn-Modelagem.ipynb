{
 "cells": [
  {
   "cell_type": "markdown",
   "id": "f0f794ac",
   "metadata": {},
   "source": [
    "# Customer Churn Telecom\n",
    "\n",
    "Customer Churn (ou Rotatividade de Clientes, em uma tradução livre) refere-se a uma decisão tomada pelo cliente sobre o término do relacionamento comercial. Refere-se também à perda de clientes. A fidelidade do cliente e a rotatividade de clientes sempre somam 100%. Se uma empresa tem uma taxa de fidelidade de 60%, então a taxa de perda de clientes é de 40%. De acordo com a\n",
    "regra de lucratividade do cliente 80/20, 20% dos clientes estão gerando 80% da receita. Portanto, é muito importante prever os usuários que provavelmente abandonarão o relacionamento comercial e os fatores que afetam as decisões do cliente.\n",
    "\n",
    "Neste projeto, o objetivo é prever o Customer Churn em uma Operadora de Telecom.\n",
    "\n",
    "## Modelagem Preditiva\n",
    "\n",
    "O objetivo final do projeto é construir um modelo preditivo para o Churn da empresa de Telecom. Após Análise Exploratória e Pré-Processamento, chegou a hora de construir o modelo de Machine Learning e avaliar sua performance. Nosso objetivo é atingir um F1-Score Macro de pelo menos 90%."
   ]
  },
  {
   "cell_type": "code",
   "execution_count": 1,
   "id": "79f9fef6",
   "metadata": {},
   "outputs": [],
   "source": [
    "# Imports da biblioteca\n",
    "import pandas as pd\n",
    "import numpy as np\n",
    "import matplotlib.pyplot as plt\n",
    "import seaborn as sns\n",
    "from sklearn.metrics import accuracy_score, confusion_matrix, classification_report, f1_score\n",
    "from sklearn.utils.class_weight import compute_class_weight, compute_sample_weight\n",
    "from sklearn.linear_model import LogisticRegression\n",
    "from sklearn.tree import DecisionTreeClassifier\n",
    "from sklearn.ensemble import RandomForestClassifier\n",
    "from sklearn.model_selection import GridSearchCV\n",
    "from xgboost import XGBClassifier\n",
    "from sklearn.naive_bayes import GaussianNB\n",
    "from sklearn.neighbors import KNeighborsClassifier\n",
    "from sklearn.svm import SVC"
   ]
  },
  {
   "cell_type": "code",
   "execution_count": 2,
   "id": "57affd3f",
   "metadata": {},
   "outputs": [],
   "source": [
    "train_data = pd.read_csv(\"dados_treino_preproc.csv\")\n",
    "test_data = pd.read_csv(\"dados_teste_preproc.csv\")"
   ]
  },
  {
   "cell_type": "markdown",
   "id": "252a98c8",
   "metadata": {},
   "source": [
    "## Definição dos dados de entrada e saída\n",
    "\n",
    "Para os primeiros modelos, não serão consideradas as variáveis criadas na Engenharia de Atributos"
   ]
  },
  {
   "cell_type": "code",
   "execution_count": 3,
   "id": "216d887a",
   "metadata": {},
   "outputs": [],
   "source": [
    "y_train, y_test = train_data['churn'], test_data['churn']\n",
    "X_train, X_test = train_data.drop(columns = ['churn', 'special_plan', 'old_account']), test_data.drop(columns = ['churn', 'special_plan', 'old_account'])"
   ]
  },
  {
   "cell_type": "markdown",
   "id": "a4f148e6",
   "metadata": {},
   "source": [
    "## Função para treinar e avaliar modelos"
   ]
  },
  {
   "cell_type": "code",
   "execution_count": 4,
   "id": "c8c46ec6",
   "metadata": {},
   "outputs": [],
   "source": [
    "def train_n_score_model(modelo, X_train, y_train, X_test, y_test):\n",
    "    # Treinamento do modelo\n",
    "    modelo.fit(X_train, y_train)\n",
    "    \n",
    "    # Previsões com modelo treinado\n",
    "    y_pred = modelo.predict(X_test)\n",
    "    \n",
    "    # Matriz de confusão\n",
    "    print('Matriz de confusão\\n')\n",
    "    print(confusion_matrix(y_test, y_pred))\n",
    "    \n",
    "    # Classificatin Report\n",
    "    print('\\n', classification_report(y_test, y_pred))"
   ]
  },
  {
   "cell_type": "markdown",
   "id": "c4f144ec",
   "metadata": {},
   "source": [
    "## Modelo 1 (Base) - Regressão Logística"
   ]
  },
  {
   "cell_type": "code",
   "execution_count": 5,
   "id": "76896e56",
   "metadata": {},
   "outputs": [
    {
     "name": "stdout",
     "output_type": "stream",
     "text": [
      "Matriz de confusão\n",
      "\n",
      "[[1413   30]\n",
      " [ 182   42]]\n",
      "\n",
      "               precision    recall  f1-score   support\n",
      "\n",
      "           0       0.89      0.98      0.93      1443\n",
      "           1       0.58      0.19      0.28       224\n",
      "\n",
      "    accuracy                           0.87      1667\n",
      "   macro avg       0.73      0.58      0.61      1667\n",
      "weighted avg       0.85      0.87      0.84      1667\n",
      "\n"
     ]
    }
   ],
   "source": [
    "modelo1 = LogisticRegression(max_iter=1000)\n",
    "\n",
    "train_n_score_model(modelo1, X_train, y_train, X_test, y_test)"
   ]
  },
  {
   "cell_type": "markdown",
   "id": "01769fd5",
   "metadata": {},
   "source": [
    "O modelo base tem uma boa acurácia, 87%, porém observando a matriz de confusão e as métricas por classe, vê-se que o desbalanceamento de classe deixou o modelo enviesado."
   ]
  },
  {
   "cell_type": "markdown",
   "id": "cd38d98e",
   "metadata": {},
   "source": [
    "## Modelo 2 - Regressão Logística com balanceamento dos pesos de classe"
   ]
  },
  {
   "cell_type": "code",
   "execution_count": 6,
   "id": "dc81930b",
   "metadata": {},
   "outputs": [
    {
     "name": "stdout",
     "output_type": "stream",
     "text": [
      "Matriz de confusão\n",
      "\n",
      "[[1099  344]\n",
      " [  41  183]]\n",
      "\n",
      "               precision    recall  f1-score   support\n",
      "\n",
      "           0       0.96      0.76      0.85      1443\n",
      "           1       0.35      0.82      0.49       224\n",
      "\n",
      "    accuracy                           0.77      1667\n",
      "   macro avg       0.66      0.79      0.67      1667\n",
      "weighted avg       0.88      0.77      0.80      1667\n",
      "\n"
     ]
    }
   ],
   "source": [
    "modelo2 = LogisticRegression(max_iter=1000, class_weight='balanced')\n",
    "\n",
    "train_n_score_model(modelo2, X_train, y_train, X_test, y_test)"
   ]
  },
  {
   "cell_type": "markdown",
   "id": "bf70007e",
   "metadata": {},
   "source": [
    "Com o segundo modelo, a acurácia caiu para 77%, porém as métricas por classe melhoraram um pouco. Porém a performance ainda está bem longe do ideal."
   ]
  },
  {
   "cell_type": "markdown",
   "id": "ce6b4965",
   "metadata": {},
   "source": [
    "## Modelo 3 - Regressão Logística com Grid Search para pesos de classe\n",
    "\n",
    "Pode-se testar um GridSearch com diferentes pesos para as classes para tentar encontrar o melhor valor. A métrica de avaliação utilizada será o F1-Score pois representa um melhor equilíbrio entre as previsões das classes"
   ]
  },
  {
   "cell_type": "code",
   "execution_count": 7,
   "id": "e1cd9ab7",
   "metadata": {},
   "outputs": [],
   "source": [
    "# Definindo diferentes valores de peso para classe\n",
    "weights = np.linspace(0.0,0.99,200)\n",
    "\n",
    "# Criando um dicionário para o Grid-Search\n",
    "param_grid = {'class_weight': [{0:x, 1:1.0-x} for x in weights]}\n",
    "\n",
    "# GridSearch\n",
    "modelo3 = GridSearchCV(estimator= LogisticRegression(max_iter=1000), \n",
    "                                  param_grid= param_grid,\n",
    "                                  cv=5, \n",
    "                                  n_jobs=-1, \n",
    "                                  scoring='f1', \n",
    "                                  verbose=2)"
   ]
  },
  {
   "cell_type": "code",
   "execution_count": 8,
   "id": "bfbae7e4",
   "metadata": {
    "scrolled": true
   },
   "outputs": [
    {
     "name": "stdout",
     "output_type": "stream",
     "text": [
      "Fitting 5 folds for each of 200 candidates, totalling 1000 fits\n",
      "Matriz de confusão\n",
      "\n",
      "[[1233  210]\n",
      " [  87  137]]\n",
      "\n",
      "               precision    recall  f1-score   support\n",
      "\n",
      "           0       0.93      0.85      0.89      1443\n",
      "           1       0.39      0.61      0.48       224\n",
      "\n",
      "    accuracy                           0.82      1667\n",
      "   macro avg       0.66      0.73      0.69      1667\n",
      "weighted avg       0.86      0.82      0.84      1667\n",
      "\n"
     ]
    }
   ],
   "source": [
    "train_n_score_model(modelo3, X_train, y_train, X_test, y_test)"
   ]
  },
  {
   "cell_type": "code",
   "execution_count": 9,
   "id": "b8e232db",
   "metadata": {},
   "outputs": [
    {
     "data": {
      "text/plain": [
       "{'class_weight': {0: 0.20894472361809047, 1: 0.7910552763819095}}"
      ]
     },
     "execution_count": 9,
     "metadata": {},
     "output_type": "execute_result"
    }
   ],
   "source": [
    "# Melhores parâmetros\n",
    "modelo3.best_params_"
   ]
  },
  {
   "cell_type": "markdown",
   "id": "ae519b13",
   "metadata": {},
   "source": [
    "Com o terceiro modelo, o F1-Score aumentou em 2% e a acurácia em mais 5%. Os pesos ideias para as classes são 20/80."
   ]
  },
  {
   "cell_type": "markdown",
   "id": "b913c088",
   "metadata": {},
   "source": [
    "## Modelo 3 (Retreino) - Logistic Regression com Feature Selection\n",
    "\n",
    "Será testado o modelo retreinado, incluindo as variáveis criadas na Feature Selection, mas removendo as variáveis usadas para criar as novas."
   ]
  },
  {
   "cell_type": "code",
   "execution_count": 10,
   "id": "77d82778",
   "metadata": {},
   "outputs": [],
   "source": [
    "X_train, X_test = train_data.drop(columns = ['churn', 'international_plan', 'voice_mail_plan', 'account_length']), \\\n",
    "                    test_data.drop(columns = ['churn', 'international_plan', 'voice_mail_plan', 'account_length'])"
   ]
  },
  {
   "cell_type": "code",
   "execution_count": 11,
   "id": "9c72e9ae",
   "metadata": {},
   "outputs": [
    {
     "name": "stdout",
     "output_type": "stream",
     "text": [
      "Fitting 5 folds for each of 200 candidates, totalling 1000 fits\n",
      "Matriz de confusão\n",
      "\n",
      "[[1178  265]\n",
      " [  85  139]]\n",
      "\n",
      "               precision    recall  f1-score   support\n",
      "\n",
      "           0       0.93      0.82      0.87      1443\n",
      "           1       0.34      0.62      0.44       224\n",
      "\n",
      "    accuracy                           0.79      1667\n",
      "   macro avg       0.64      0.72      0.66      1667\n",
      "weighted avg       0.85      0.79      0.81      1667\n",
      "\n"
     ]
    }
   ],
   "source": [
    "train_n_score_model(modelo3, X_train, y_train, X_test, y_test)"
   ]
  },
  {
   "cell_type": "markdown",
   "id": "2e80a8f3",
   "metadata": {},
   "source": [
    "O resultado foi muito próximo ao obtido anteriormente. A acurácia diminuiu um pouco mas o F1-Score Macro aumentou."
   ]
  },
  {
   "cell_type": "markdown",
   "id": "e29b08c6",
   "metadata": {},
   "source": [
    "## Modelo 4 - Decision Tree"
   ]
  },
  {
   "cell_type": "code",
   "execution_count": 12,
   "id": "bb33a650",
   "metadata": {},
   "outputs": [
    {
     "name": "stdout",
     "output_type": "stream",
     "text": [
      "Matriz de confusão\n",
      "\n",
      "[[1340  103]\n",
      " [  99  125]]\n",
      "\n",
      "               precision    recall  f1-score   support\n",
      "\n",
      "           0       0.93      0.93      0.93      1443\n",
      "           1       0.55      0.56      0.55       224\n",
      "\n",
      "    accuracy                           0.88      1667\n",
      "   macro avg       0.74      0.74      0.74      1667\n",
      "weighted avg       0.88      0.88      0.88      1667\n",
      "\n"
     ]
    }
   ],
   "source": [
    "modelo4 = DecisionTreeClassifier()\n",
    "\n",
    "train_n_score_model(modelo4, X_train, y_train, X_test, y_test)"
   ]
  },
  {
   "cell_type": "markdown",
   "id": "11a7235b",
   "metadata": {},
   "source": [
    "Todas as métricas do modelo Decision Tree foram melhores que o modelo de Regressão Logística. Pode-se tentar utilizar um Random Forest."
   ]
  },
  {
   "cell_type": "markdown",
   "id": "3211839b",
   "metadata": {},
   "source": [
    "## Modelo 5 - Random Forest"
   ]
  },
  {
   "cell_type": "code",
   "execution_count": 13,
   "id": "c66a830e",
   "metadata": {
    "scrolled": true
   },
   "outputs": [
    {
     "name": "stdout",
     "output_type": "stream",
     "text": [
      "Matriz de confusão\n",
      "\n",
      "[[1437    6]\n",
      " [ 104  120]]\n",
      "\n",
      "               precision    recall  f1-score   support\n",
      "\n",
      "           0       0.93      1.00      0.96      1443\n",
      "           1       0.95      0.54      0.69       224\n",
      "\n",
      "    accuracy                           0.93      1667\n",
      "   macro avg       0.94      0.77      0.82      1667\n",
      "weighted avg       0.94      0.93      0.93      1667\n",
      "\n"
     ]
    }
   ],
   "source": [
    "modelo5 = RandomForestClassifier()\n",
    "\n",
    "train_n_score_model(modelo5, X_train, y_train, X_test, y_test)"
   ]
  },
  {
   "cell_type": "markdown",
   "id": "d32e753c",
   "metadata": {},
   "source": [
    "O modelo Random Forest teve performance muito boa, com acurácia acima de 93% e F1-Score Macro de 82%."
   ]
  },
  {
   "cell_type": "markdown",
   "id": "9ad2da20",
   "metadata": {},
   "source": [
    "## Importância das Features com Random Forest\n"
   ]
  },
  {
   "cell_type": "code",
   "execution_count": 14,
   "id": "3dedae42",
   "metadata": {},
   "outputs": [
    {
     "data": {
      "text/html": [
       "<div>\n",
       "<style scoped>\n",
       "    .dataframe tbody tr th:only-of-type {\n",
       "        vertical-align: middle;\n",
       "    }\n",
       "\n",
       "    .dataframe tbody tr th {\n",
       "        vertical-align: top;\n",
       "    }\n",
       "\n",
       "    .dataframe thead th {\n",
       "        text-align: right;\n",
       "    }\n",
       "</style>\n",
       "<table border=\"1\" class=\"dataframe\">\n",
       "  <thead>\n",
       "    <tr style=\"text-align: right;\">\n",
       "      <th></th>\n",
       "      <th>Feature Importance</th>\n",
       "    </tr>\n",
       "  </thead>\n",
       "  <tbody>\n",
       "    <tr>\n",
       "      <th>state</th>\n",
       "      <td>0.035931</td>\n",
       "    </tr>\n",
       "    <tr>\n",
       "      <th>number_vmail_messages</th>\n",
       "      <td>0.049203</td>\n",
       "    </tr>\n",
       "    <tr>\n",
       "      <th>total_day_minutes</th>\n",
       "      <td>0.159155</td>\n",
       "    </tr>\n",
       "    <tr>\n",
       "      <th>total_day_calls</th>\n",
       "      <td>0.043870</td>\n",
       "    </tr>\n",
       "    <tr>\n",
       "      <th>total_day_charge</th>\n",
       "      <td>0.146991</td>\n",
       "    </tr>\n",
       "    <tr>\n",
       "      <th>total_eve_minutes</th>\n",
       "      <td>0.082328</td>\n",
       "    </tr>\n",
       "    <tr>\n",
       "      <th>total_eve_calls</th>\n",
       "      <td>0.038459</td>\n",
       "    </tr>\n",
       "    <tr>\n",
       "      <th>total_eve_charge</th>\n",
       "      <td>0.080171</td>\n",
       "    </tr>\n",
       "    <tr>\n",
       "      <th>total_night_minutes</th>\n",
       "      <td>0.048157</td>\n",
       "    </tr>\n",
       "    <tr>\n",
       "      <th>total_night_calls</th>\n",
       "      <td>0.042978</td>\n",
       "    </tr>\n",
       "    <tr>\n",
       "      <th>total_night_charge</th>\n",
       "      <td>0.047585</td>\n",
       "    </tr>\n",
       "    <tr>\n",
       "      <th>total_intl_minutes</th>\n",
       "      <td>0.041733</td>\n",
       "    </tr>\n",
       "    <tr>\n",
       "      <th>total_intl_calls</th>\n",
       "      <td>0.028936</td>\n",
       "    </tr>\n",
       "    <tr>\n",
       "      <th>total_intl_charge</th>\n",
       "      <td>0.041010</td>\n",
       "    </tr>\n",
       "    <tr>\n",
       "      <th>number_customer_service_calls</th>\n",
       "      <td>0.106812</td>\n",
       "    </tr>\n",
       "    <tr>\n",
       "      <th>special_plan</th>\n",
       "      <td>0.000000</td>\n",
       "    </tr>\n",
       "    <tr>\n",
       "      <th>old_account</th>\n",
       "      <td>0.006679</td>\n",
       "    </tr>\n",
       "  </tbody>\n",
       "</table>\n",
       "</div>"
      ],
      "text/plain": [
       "                               Feature Importance\n",
       "state                                    0.035931\n",
       "number_vmail_messages                    0.049203\n",
       "total_day_minutes                        0.159155\n",
       "total_day_calls                          0.043870\n",
       "total_day_charge                         0.146991\n",
       "total_eve_minutes                        0.082328\n",
       "total_eve_calls                          0.038459\n",
       "total_eve_charge                         0.080171\n",
       "total_night_minutes                      0.048157\n",
       "total_night_calls                        0.042978\n",
       "total_night_charge                       0.047585\n",
       "total_intl_minutes                       0.041733\n",
       "total_intl_calls                         0.028936\n",
       "total_intl_charge                        0.041010\n",
       "number_customer_service_calls            0.106812\n",
       "special_plan                             0.000000\n",
       "old_account                              0.006679"
      ]
     },
     "execution_count": 14,
     "metadata": {},
     "output_type": "execute_result"
    }
   ],
   "source": [
    "# Extrai a importância\n",
    "feature_importance = modelo5.feature_importances_\n",
    "feature_names = modelo5.feature_names_in_\n",
    "\n",
    "# Dicionário de importâncias\n",
    "importance_dict = {feature_names[i]: feature_importance[i] for i in range(len(feature_names))}\n",
    "\n",
    "# Constrói um DataFrame a partir do dicionário\n",
    "df_imp = pd.DataFrame(importance_dict, index=['Feature Importance'])\n",
    "\n",
    "# Transpõe o Dataframe\n",
    "df_imp = df_imp.T\n",
    "\n",
    "# Mostra o resultado final\n",
    "df_imp"
   ]
  },
  {
   "cell_type": "code",
   "execution_count": 15,
   "id": "118e0003",
   "metadata": {},
   "outputs": [],
   "source": [
    "plot = df_imp.sort_values(ascending=False, by=['Feature Importance'])"
   ]
  },
  {
   "cell_type": "code",
   "execution_count": 16,
   "id": "e6a397b7",
   "metadata": {},
   "outputs": [
    {
     "data": {
      "image/png": "[encoded data removed]",
      "text/plain": [
       "<Figure size 2000x1200 with 1 Axes>"
      ]
     },
     "metadata": {},
     "output_type": "display_data"
    }
   ],
   "source": [
    "plt.figure(figsize=(20,12))\n",
    "sns.barplot(data = plot, x=plot.index, y = 'Feature Importance')\n",
    "plt.title('Importância da Feature para o Algoritmo RandomForest')\n",
    "plt.xticks(rotation = 90);"
   ]
  },
  {
   "cell_type": "markdown",
   "id": "88fdca45",
   "metadata": {},
   "source": [
    "As variáveis criadas na Engenharia de Atributos são as com menor importância. Elas serão removida do modelo. Pode-se testar se as variáveis originais são mais úteis na predição."
   ]
  },
  {
   "cell_type": "code",
   "execution_count": 17,
   "id": "f0a42a4f",
   "metadata": {},
   "outputs": [],
   "source": [
    "X_train, X_test = train_data.drop(columns = ['churn', 'special_plan', 'old_account']), \\\n",
    "                    test_data.drop(columns = ['churn', 'special_plan', 'old_account'])"
   ]
  },
  {
   "cell_type": "code",
   "execution_count": 18,
   "id": "af072ca3",
   "metadata": {},
   "outputs": [
    {
     "name": "stdout",
     "output_type": "stream",
     "text": [
      "Matriz de confusão\n",
      "\n",
      "[[1442    1]\n",
      " [  66  158]]\n",
      "\n",
      "               precision    recall  f1-score   support\n",
      "\n",
      "           0       0.96      1.00      0.98      1443\n",
      "           1       0.99      0.71      0.83       224\n",
      "\n",
      "    accuracy                           0.96      1667\n",
      "   macro avg       0.97      0.85      0.90      1667\n",
      "weighted avg       0.96      0.96      0.96      1667\n",
      "\n"
     ]
    }
   ],
   "source": [
    "train_n_score_model(modelo5, X_train, y_train, X_test, y_test)"
   ]
  },
  {
   "cell_type": "markdown",
   "id": "82709966",
   "metadata": {},
   "source": [
    "Com as variáveis originais, o modelo alcançou 90% de F1 Score Macro."
   ]
  },
  {
   "cell_type": "code",
   "execution_count": 19,
   "id": "a6e54bde",
   "metadata": {},
   "outputs": [
    {
     "data": {
      "image/png": "[encoded data removed]",
      "text/plain": [
       "<Figure size 2000x1200 with 1 Axes>"
      ]
     },
     "metadata": {},
     "output_type": "display_data"
    }
   ],
   "source": [
    "# Extrai a importância\n",
    "feature_importance = modelo5.feature_importances_\n",
    "feature_names = modelo5.feature_names_in_\n",
    "\n",
    "# Dicionário de importâncias\n",
    "importance_dict = {feature_names[i]: feature_importance[i] for i in range(len(feature_names))}\n",
    "\n",
    "# Constrói um DataFrame a partir do dicionário\n",
    "df_imp = pd.DataFrame(importance_dict, index=['Feature Importance'])\n",
    "\n",
    "# Transpõe o Dataframe\n",
    "df_imp = df_imp.T\n",
    "\n",
    "# Mostra o resultado final\n",
    "df_imp\n",
    "\n",
    "# Objeto plot\n",
    "plot = df_imp.sort_values(ascending=False, by=['Feature Importance'])\n",
    "\n",
    "# Gráfico\n",
    "plt.figure(figsize=(20,12))\n",
    "sns.barplot(data = plot, x=plot.index, y = 'Feature Importance')\n",
    "plt.title('Importância da Feature para o Algoritmo RandomForest')\n",
    "plt.xticks(rotation = 90);"
   ]
  },
  {
   "cell_type": "markdown",
   "id": "070df95d",
   "metadata": {},
   "source": [
    "A variável international_plan é a quarta mais importante para as previsões, já a variável voice_mail plan é a segunda menos importante. Por hora, todas as variáveis serão mantidas no modelo."
   ]
  },
  {
   "cell_type": "markdown",
   "id": "02923fbf",
   "metadata": {},
   "source": [
    "## Modelo 6 - Random Forest com Otimização de Hiperparâmetros"
   ]
  },
  {
   "cell_type": "code",
   "execution_count": 20,
   "id": "9f8b7350",
   "metadata": {},
   "outputs": [],
   "source": [
    "# Criando um dicionário para o Grid-Search\n",
    "param_grid = {'n_estimators': range(100, 600, 100),\n",
    "              'criterion': ['gini', 'entropy'],\n",
    "              'max_depth': range(4,10),\n",
    "              'bootstrap': [True, False]}\n",
    "\n",
    "# GridSearch\n",
    "modelo6 = GridSearchCV(estimator= RandomForestClassifier(), \n",
    "                                  param_grid= param_grid,\n",
    "                                  cv=5, \n",
    "                                  n_jobs=-1, \n",
    "                                  scoring='f1', \n",
    "                                  verbose=2)"
   ]
  },
  {
   "cell_type": "code",
   "execution_count": 21,
   "id": "e80ead73",
   "metadata": {},
   "outputs": [
    {
     "name": "stdout",
     "output_type": "stream",
     "text": [
      "Fitting 5 folds for each of 120 candidates, totalling 600 fits\n",
      "Matriz de confusão\n",
      "\n",
      "[[1440    3]\n",
      " [  68  156]]\n",
      "\n",
      "               precision    recall  f1-score   support\n",
      "\n",
      "           0       0.95      1.00      0.98      1443\n",
      "           1       0.98      0.70      0.81       224\n",
      "\n",
      "    accuracy                           0.96      1667\n",
      "   macro avg       0.97      0.85      0.90      1667\n",
      "weighted avg       0.96      0.96      0.95      1667\n",
      "\n"
     ]
    }
   ],
   "source": [
    "train_n_score_model(modelo6, X_train, y_train, X_test, y_test)"
   ]
  },
  {
   "cell_type": "code",
   "execution_count": 22,
   "id": "99f7ff53",
   "metadata": {},
   "outputs": [
    {
     "data": {
      "text/plain": [
       "{'bootstrap': False,\n",
       " 'criterion': 'entropy',\n",
       " 'max_depth': 9,\n",
       " 'n_estimators': 400}"
      ]
     },
     "execution_count": 22,
     "metadata": {},
     "output_type": "execute_result"
    }
   ],
   "source": [
    "modelo6.best_params_"
   ]
  },
  {
   "cell_type": "markdown",
   "id": "386b54a8",
   "metadata": {},
   "source": [
    "A otimização de hiperparâmetros não melhorou a performance do modelo. Pode-se testar outros algoritmos."
   ]
  },
  {
   "cell_type": "markdown",
   "id": "8dcc7354",
   "metadata": {},
   "source": [
    "## Modelo 7 - XGBoost Classifier"
   ]
  },
  {
   "cell_type": "code",
   "execution_count": 23,
   "id": "ad0d6f85",
   "metadata": {
    "scrolled": true
   },
   "outputs": [
    {
     "name": "stdout",
     "output_type": "stream",
     "text": [
      "Matriz de confusão\n",
      "\n",
      "[[1433   10]\n",
      " [  61  163]]\n",
      "\n",
      "               precision    recall  f1-score   support\n",
      "\n",
      "           0       0.96      0.99      0.98      1443\n",
      "           1       0.94      0.73      0.82       224\n",
      "\n",
      "    accuracy                           0.96      1667\n",
      "   macro avg       0.95      0.86      0.90      1667\n",
      "weighted avg       0.96      0.96      0.96      1667\n",
      "\n"
     ]
    }
   ],
   "source": [
    "modelo7 = XGBClassifier()\n",
    "\n",
    "train_n_score_model(modelo7, X_train, y_train, X_test, y_test)"
   ]
  },
  {
   "cell_type": "markdown",
   "id": "590992f6",
   "metadata": {},
   "source": [
    "O modelo XGBoost alcançou o F1 Score de 90%. Já chegou-se ao objetivo, mas pode-se tentar melhorar a performance do modelo ainda mais."
   ]
  },
  {
   "cell_type": "markdown",
   "id": "3fa0cfcf",
   "metadata": {},
   "source": [
    "## Modelo 8 - XGBoost com parâmetro scale_pos_weight\n",
    "\n",
    "O parâmetro scale_pos_weight é usado em casos de classes desbalanceadas para melhorar a performance do modelo. Seu valor ideal é o da proporção entre classe positiva e negativa."
   ]
  },
  {
   "cell_type": "code",
   "execution_count": 24,
   "id": "0ab8a508",
   "metadata": {},
   "outputs": [],
   "source": [
    "classes = np.bincount(y_train)"
   ]
  },
  {
   "cell_type": "code",
   "execution_count": 25,
   "id": "6b654645",
   "metadata": {
    "scrolled": true
   },
   "outputs": [
    {
     "name": "stdout",
     "output_type": "stream",
     "text": [
      "Matriz de confusão\n",
      "\n",
      "[[1424   19]\n",
      " [  47  177]]\n",
      "\n",
      "               precision    recall  f1-score   support\n",
      "\n",
      "           0       0.97      0.99      0.98      1443\n",
      "           1       0.90      0.79      0.84       224\n",
      "\n",
      "    accuracy                           0.96      1667\n",
      "   macro avg       0.94      0.89      0.91      1667\n",
      "weighted avg       0.96      0.96      0.96      1667\n",
      "\n"
     ]
    }
   ],
   "source": [
    "modelo8 = XGBClassifier(scale_pos_weight = classes[0]/classes[1])\n",
    "\n",
    "train_n_score_model(modelo8, X_train, y_train, X_test, y_test)"
   ]
  },
  {
   "cell_type": "markdown",
   "id": "053e0828",
   "metadata": {},
   "source": [
    "Com p parâmetro scale_pos_weight, o F1-Score aumentou em 1%."
   ]
  },
  {
   "cell_type": "markdown",
   "id": "d79ab126",
   "metadata": {},
   "source": [
    "## Modelo 9 - XGBoost com otimização de hiperparâmetros (GridSeach)"
   ]
  },
  {
   "cell_type": "code",
   "execution_count": 26,
   "id": "85d6d0b7",
   "metadata": {},
   "outputs": [
    {
     "name": "stdout",
     "output_type": "stream",
     "text": [
      "Fitting 5 folds for each of 750 candidates, totalling 3750 fits\n",
      "Matriz de confusão\n",
      "\n",
      "[[1422   21]\n",
      " [  48  176]]\n",
      "\n",
      "               precision    recall  f1-score   support\n",
      "\n",
      "           0       0.97      0.99      0.98      1443\n",
      "           1       0.89      0.79      0.84       224\n",
      "\n",
      "    accuracy                           0.96      1667\n",
      "   macro avg       0.93      0.89      0.91      1667\n",
      "weighted avg       0.96      0.96      0.96      1667\n",
      "\n"
     ]
    }
   ],
   "source": [
    "param_grid = {'max_depth': [3, 4, 5, 6, 7],\n",
    "              'learning_rate': [0.1, 0.2, 0.3, 0.4, 0.5, 0.6, 0.7, 0.8, 0.9, 1],\n",
    "              'n_estimators': range(100,600,100),\n",
    "              'gamma': [0, 0.1, 0.2]}\n",
    "\n",
    "modelo9 = GridSearchCV(XGBClassifier(scale_pos_weight = classes[0]/classes[1]),\n",
    "                                     cv = 5,\n",
    "                                     param_grid = param_grid,\n",
    "                                     n_jobs = -1,\n",
    "                                     scoring = 'f1',\n",
    "                                     verbose = 2)\n",
    "\n",
    "train_n_score_model(modelo9, X_train, y_train, X_test, y_test)"
   ]
  },
  {
   "cell_type": "code",
   "execution_count": 27,
   "id": "d08b32f9",
   "metadata": {
    "scrolled": true
   },
   "outputs": [
    {
     "data": {
      "text/plain": [
       "{'gamma': 0, 'learning_rate': 0.5, 'max_depth': 7, 'n_estimators': 100}"
      ]
     },
     "execution_count": 27,
     "metadata": {},
     "output_type": "execute_result"
    }
   ],
   "source": [
    "modelo9.best_params_"
   ]
  },
  {
   "cell_type": "markdown",
   "id": "a7b0e4db",
   "metadata": {},
   "source": [
    "A otimização de hiperparâmetros não melhorou a performance do modelo. Por fim, serão testados mais 3 algoritmos."
   ]
  },
  {
   "cell_type": "markdown",
   "id": "c2ab37cc",
   "metadata": {},
   "source": [
    "## Modelo 10 - Naive Bayes"
   ]
  },
  {
   "cell_type": "code",
   "execution_count": 28,
   "id": "6bda666b",
   "metadata": {
    "scrolled": true
   },
   "outputs": [
    {
     "name": "stdout",
     "output_type": "stream",
     "text": [
      "Matriz de confusão\n",
      "\n",
      "[[1339  104]\n",
      " [ 108  116]]\n",
      "\n",
      "               precision    recall  f1-score   support\n",
      "\n",
      "           0       0.93      0.93      0.93      1443\n",
      "           1       0.53      0.52      0.52       224\n",
      "\n",
      "    accuracy                           0.87      1667\n",
      "   macro avg       0.73      0.72      0.72      1667\n",
      "weighted avg       0.87      0.87      0.87      1667\n",
      "\n"
     ]
    }
   ],
   "source": [
    "modelo10 = GaussianNB()\n",
    "\n",
    "train_n_score_model(modelo10, X_train, y_train, X_test, y_test)"
   ]
  },
  {
   "cell_type": "markdown",
   "id": "0ea2f591",
   "metadata": {},
   "source": [
    "O Naive Bayes alcançou apenas 72% de F1-Score."
   ]
  },
  {
   "cell_type": "markdown",
   "id": "555da723",
   "metadata": {},
   "source": [
    "## Modelo 11 - KNN"
   ]
  },
  {
   "cell_type": "code",
   "execution_count": 29,
   "id": "f5be5484",
   "metadata": {
    "scrolled": false
   },
   "outputs": [
    {
     "name": "stdout",
     "output_type": "stream",
     "text": [
      "Matriz de confusão\n",
      "\n",
      "[[1418   25]\n",
      " [ 170   54]]\n",
      "\n",
      "               precision    recall  f1-score   support\n",
      "\n",
      "           0       0.89      0.98      0.94      1443\n",
      "           1       0.68      0.24      0.36       224\n",
      "\n",
      "    accuracy                           0.88      1667\n",
      "   macro avg       0.79      0.61      0.65      1667\n",
      "weighted avg       0.86      0.88      0.86      1667\n",
      "\n",
      "Matriz de confusão\n",
      "\n",
      "[[1431   12]\n",
      " [ 190   34]]\n",
      "\n",
      "               precision    recall  f1-score   support\n",
      "\n",
      "           0       0.88      0.99      0.93      1443\n",
      "           1       0.74      0.15      0.25       224\n",
      "\n",
      "    accuracy                           0.88      1667\n",
      "   macro avg       0.81      0.57      0.59      1667\n",
      "weighted avg       0.86      0.88      0.84      1667\n",
      "\n",
      "Matriz de confusão\n",
      "\n",
      "[[1437    6]\n",
      " [ 194   30]]\n",
      "\n",
      "               precision    recall  f1-score   support\n",
      "\n",
      "           0       0.88      1.00      0.93      1443\n",
      "           1       0.83      0.13      0.23       224\n",
      "\n",
      "    accuracy                           0.88      1667\n",
      "   macro avg       0.86      0.56      0.58      1667\n",
      "weighted avg       0.87      0.88      0.84      1667\n",
      "\n",
      "Matriz de confusão\n",
      "\n",
      "[[1439    4]\n",
      " [ 197   27]]\n",
      "\n",
      "               precision    recall  f1-score   support\n",
      "\n",
      "           0       0.88      1.00      0.93      1443\n",
      "           1       0.87      0.12      0.21       224\n",
      "\n",
      "    accuracy                           0.88      1667\n",
      "   macro avg       0.88      0.56      0.57      1667\n",
      "weighted avg       0.88      0.88      0.84      1667\n",
      "\n"
     ]
    }
   ],
   "source": [
    "k_list = [3,5,7,9]\n",
    "\n",
    "for k in k_list:\n",
    "    modelo11 = KNeighborsClassifier(n_neighbors = k)\n",
    "    train_n_score_model(modelo11, X_train, y_train, X_test, y_test)"
   ]
  },
  {
   "cell_type": "markdown",
   "id": "4775114e",
   "metadata": {},
   "source": [
    "O melhor modelo KNN foi para k = 3. Porém mesmo assim o modelo teve apenas 65% de F1-Score."
   ]
  },
  {
   "cell_type": "markdown",
   "id": "3e72f702",
   "metadata": {},
   "source": [
    "## Modelo 12 - SVM Classifier"
   ]
  },
  {
   "cell_type": "code",
   "execution_count": 30,
   "id": "aeca82c0",
   "metadata": {
    "scrolled": false
   },
   "outputs": [
    {
     "name": "stdout",
     "output_type": "stream",
     "text": [
      "Fitting 5 folds for each of 24 candidates, totalling 120 fits\n",
      "Matriz de confusão\n",
      "\n",
      "[[1415   28]\n",
      " [ 150   74]]\n",
      "\n",
      "               precision    recall  f1-score   support\n",
      "\n",
      "           0       0.90      0.98      0.94      1443\n",
      "           1       0.73      0.33      0.45       224\n",
      "\n",
      "    accuracy                           0.89      1667\n",
      "   macro avg       0.81      0.66      0.70      1667\n",
      "weighted avg       0.88      0.89      0.88      1667\n",
      "\n"
     ]
    }
   ],
   "source": [
    "param_grid = {'C': [0.5, 1, 2],\n",
    "              'kernel': ['rbf', 'linear'],\n",
    "              'gamma': [0.01, 0.1, 1, 2]}\n",
    "\n",
    "modelo12 = GridSearchCV(SVC(),\n",
    "                         cv = 5,\n",
    "                         param_grid = param_grid,\n",
    "                         n_jobs = -1,\n",
    "                         scoring = 'f1',\n",
    "                         verbose = 2)\n",
    "\n",
    "train_n_score_model(modelo12, X_train, y_train, X_test, y_test)"
   ]
  },
  {
   "cell_type": "markdown",
   "id": "e4035570",
   "metadata": {},
   "source": [
    "O SVM aparenta estar bastante enviesado. Suas métricas para a classe 1 estão bem baixas."
   ]
  },
  {
   "cell_type": "markdown",
   "id": "6054b4f7",
   "metadata": {},
   "source": [
    "## Modelo 8 com threshold diferente de 0.5\n",
    "\n",
    "Entre os modelos testados, o modelo 8 obteve a melhor performance. Agora, ao invés de optimizar hiperparâmetros, será testado a mudança do threshold. Serão usadas as previsões de probabilidades de classes e depois comparadas com diferentes valores de threshold para obter um novo conjunto de previsões."
   ]
  },
  {
   "cell_type": "code",
   "execution_count": 31,
   "id": "542478ca",
   "metadata": {},
   "outputs": [
    {
     "data": {
      "text/plain": [
       "[0.05,\n",
       " 0.1,\n",
       " 0.15,\n",
       " 0.2,\n",
       " 0.25,\n",
       " 0.3,\n",
       " 0.35,\n",
       " 0.4,\n",
       " 0.45,\n",
       " 0.5,\n",
       " 0.55,\n",
       " 0.6,\n",
       " 0.65,\n",
       " 0.7,\n",
       " 0.75,\n",
       " 0.8,\n",
       " 0.85,\n",
       " 0.9,\n",
       " 0.95]"
      ]
     },
     "execution_count": 31,
     "metadata": {},
     "output_type": "execute_result"
    }
   ],
   "source": [
    "# Lista de thresholds\n",
    "thresh = [t/100 for t in range(5,100,5)]\n",
    "thresh\n"
   ]
  },
  {
   "cell_type": "code",
   "execution_count": 32,
   "id": "a2fb9346",
   "metadata": {},
   "outputs": [],
   "source": [
    "previsoes = []\n",
    "\n",
    "preds_prob = modelo8.predict_proba(X_test)\n",
    "\n",
    "temp = np.array([pred[0] for pred in preds_prob])\n"
   ]
  },
  {
   "cell_type": "code",
   "execution_count": 33,
   "id": "0903b665",
   "metadata": {
    "scrolled": true
   },
   "outputs": [
    {
     "data": {
      "text/plain": [
       "[array([0, 0, 0, ..., 0, 0, 0]),\n",
       " array([0, 0, 0, ..., 0, 0, 0]),\n",
       " array([0, 0, 0, ..., 0, 0, 0]),\n",
       " array([0, 0, 0, ..., 0, 0, 0]),\n",
       " array([0, 0, 0, ..., 0, 0, 0]),\n",
       " array([0, 0, 0, ..., 0, 0, 0]),\n",
       " array([0, 0, 0, ..., 0, 0, 0]),\n",
       " array([0, 0, 0, ..., 0, 0, 0]),\n",
       " array([0, 0, 0, ..., 0, 0, 0]),\n",
       " array([0, 0, 0, ..., 0, 0, 0]),\n",
       " array([0, 0, 0, ..., 0, 0, 0]),\n",
       " array([0, 0, 0, ..., 0, 0, 0]),\n",
       " array([0, 0, 0, ..., 0, 0, 0]),\n",
       " array([0, 0, 0, ..., 0, 0, 0]),\n",
       " array([0, 0, 0, ..., 0, 0, 0]),\n",
       " array([0, 0, 0, ..., 0, 0, 0]),\n",
       " array([0, 0, 0, ..., 0, 0, 0]),\n",
       " array([0, 0, 0, ..., 0, 0, 0]),\n",
       " array([0, 0, 1, ..., 0, 0, 0])]"
      ]
     },
     "execution_count": 33,
     "metadata": {},
     "output_type": "execute_result"
    }
   ],
   "source": [
    "y_preds = [np.where(temp < t, 1, 0) for t in thresh]\n",
    "y_preds"
   ]
  },
  {
   "cell_type": "code",
   "execution_count": 34,
   "id": "4bfdc084",
   "metadata": {
    "scrolled": true
   },
   "outputs": [],
   "source": [
    "f1scores = [f1_score(y, y_test) for y in y_preds]\n",
    "\n",
    "highestf1, highestf1index = max(f1scores), np.argmax(f1scores)"
   ]
  },
  {
   "cell_type": "code",
   "execution_count": 35,
   "id": "39118742",
   "metadata": {},
   "outputs": [
    {
     "data": {
      "text/plain": [
       "(0.8486352357320098, 5)"
      ]
     },
     "execution_count": 35,
     "metadata": {},
     "output_type": "execute_result"
    }
   ],
   "source": [
    "highestf1, highestf1index"
   ]
  },
  {
   "cell_type": "code",
   "execution_count": 36,
   "id": "dfa3c981",
   "metadata": {},
   "outputs": [
    {
     "name": "stdout",
     "output_type": "stream",
     "text": [
      "[[1435   53]\n",
      " [   8  171]]\n"
     ]
    }
   ],
   "source": [
    "print(confusion_matrix(y_preds[5], y_test))"
   ]
  },
  {
   "cell_type": "code",
   "execution_count": 37,
   "id": "a2734541",
   "metadata": {
    "scrolled": true
   },
   "outputs": [
    {
     "name": "stdout",
     "output_type": "stream",
     "text": [
      "              precision    recall  f1-score   support\n",
      "\n",
      "           0       0.99      0.96      0.98      1488\n",
      "           1       0.76      0.96      0.85       179\n",
      "\n",
      "    accuracy                           0.96      1667\n",
      "   macro avg       0.88      0.96      0.91      1667\n",
      "weighted avg       0.97      0.96      0.97      1667\n",
      "\n"
     ]
    }
   ],
   "source": [
    "print(classification_report(y_preds[5], y_test))"
   ]
  },
  {
   "cell_type": "markdown",
   "id": "8cd68ba1",
   "metadata": {},
   "source": [
    "O modelo com threshold de 0.3 obteve a melhor performance de F1-Score na validação cruzada. \n",
    "\n",
    "O F1-Score em teste foi o mesmo do modelo com threshold 0.5, porém a diferença está nas métricas de Precision e Recall. O modelo com threshold 0.5 obteve maior precision e menor recall, enquanto o modelo com threshold 0.3 obteve o contrário.\n",
    "\n",
    "* **Precison** é mais importante quando quer se evitar Falsos Positivos.\n",
    "* **Recall** é mais importante quando quer se evitar Falsos Negativos.\n",
    "\n",
    "Considerando essa diferença, para o problema em questão, faz mais sentido obter um **Recall** maior, visto que um falso negativo, isto é, prever que um cliente não irá cancelar o serviço quando na realidade ele irá é mais prejudicial para o negócio do que prever que o cliente irá cancelar quando ele não irá."
   ]
  },
  {
   "cell_type": "markdown",
   "id": "0ee1979a",
   "metadata": {},
   "source": [
    "# Conclusão\n",
    "\n",
    "Com um modelo XGBoost Classifier, utilizando a otimização do hiperparâmetro scale_pos_weight e um threshold de 0.3, foi possível alcançar uma acurácia de 96%, com F1-Score de 91% e um recall de 96%.\n",
    "\n",
    "**Mas o que isso significa para o negócio?**\n",
    "\n",
    "Utilizando as previsões do modelo, o negócio seria capaz de prever o cancelamento de 171 dos 224 clientes que iriam cancelar o serviço, e então, usando estratégias de retenção, o churn poderia ser reduzido em até 75%.\n",
    "\n"
   ]
  }
 ],
 "metadata": {
  "kernelspec": {
   "display_name": "Python 3 (ipykernel)",
   "language": "python",
   "name": "python3"
  },
  "language_info": {
   "codemirror_mode": {
    "name": "ipython",
    "version": 3
   },
   "file_extension": ".py",
   "mimetype": "text/x-python",
   "name": "python",
   "nbconvert_exporter": "python",
   "pygments_lexer": "ipython3",
   "version": "3.9.16"
  }
 },
 "nbformat": 4,
 "nbformat_minor": 5
}
